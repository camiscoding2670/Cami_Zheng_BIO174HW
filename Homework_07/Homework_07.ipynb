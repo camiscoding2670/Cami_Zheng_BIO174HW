{
 "cells": [
  {
   "cell_type": "markdown",
   "metadata": {},
   "source": [
    "# 1. Partial Correlations\n",
    "\n",
    "Modify the code of the `partial_cor()` function from Class 09d, so that it takes as input a correlation matrix and the name of one variable, and returns the partial correlation for each pair of variables controlled for the variable you passed to the function.\n",
    "\n",
    "For example, if you use the correlation matrices that we calculated in Class 9d, you could use the function by calling: `partial_cor(cor1, CAI)`, this would return the partial correlation of each pair of variables (minus CAI) controlled by CAI.\n",
    "\n",
    "To do this, please save the `result` dataframe from Class 9d to a file, copy the file to the homework directory, read the file into a datframe, calculate the correlation matrix, and finally test your function."
   ]
  },
  {
   "cell_type": "code",
   "execution_count": 1,
   "metadata": {
    "collapsed": true
   },
   "outputs": [
    {
     "name": "stdout",
     "output_type": "stream",
     "text": [
      "Partial Correlation Matrix:\n",
      "                      dN     dN/dS  dN/dS adjusted        dS  dS adjusted  \\\n",
      "dN                   NaN  0.942190        0.967828  0.334624     0.334624   \n",
      "dN/dS           0.942190       NaN        0.992111  0.081485     0.081485   \n",
      "dN/dS adjusted  0.967828  0.992111             NaN  0.145174     0.145175   \n",
      "dS              0.334624  0.081485        0.145174       NaN     1.000000   \n",
      "dS adjusted     0.334624  0.081485        0.145175  1.000000          NaN   \n",
      "fdN             0.827892  0.818125        0.812879  0.370816     0.370816   \n",
      "fdNdS           0.798871  0.854336        0.829747  0.136501     0.136502   \n",
      "fdNdSadj        0.824645  0.858034        0.842410  0.216480     0.216480   \n",
      "fdS             0.227405 -0.007260        0.056628  0.922889     0.922889   \n",
      "fdSadj          0.322453  0.067914        0.132763  0.994316     0.994316   \n",
      "fitness         0.171000  0.174507        0.173285  0.072793     0.072793   \n",
      "\n",
      "                     fdN     fdNdS  fdNdSadj       fdS    fdSadj   fitness  \n",
      "dN              0.827892  0.798871  0.824645  0.227405  0.322453  0.171000  \n",
      "dN/dS           0.818125  0.854336  0.858034 -0.007260  0.067914  0.174507  \n",
      "dN/dS adjusted  0.812879  0.829747  0.842410  0.056628  0.132763  0.173285  \n",
      "dS              0.370816  0.136501  0.216480  0.922889  0.994316  0.072793  \n",
      "dS adjusted     0.370816  0.136502  0.216480  0.922889  0.994316  0.072793  \n",
      "fdN                  NaN  0.965591  0.985984  0.304332  0.368648  0.224950  \n",
      "fdNdS           0.965591       NaN  0.990333  0.052298  0.131464  0.216680  \n",
      "fdNdSadj        0.985984  0.990333       NaN  0.154180  0.213110  0.223637  \n",
      "fdS             0.304332  0.052298  0.154180       NaN  0.933469  0.068038  \n",
      "fdSadj          0.368648  0.131464  0.213110  0.933469       NaN  0.072368  \n",
      "fitness         0.224950  0.216680  0.223637  0.068038  0.072368       NaN  \n"
     ]
    }
   ],
   "source": [
    "import pandas as pd\n",
    "import numpy as np\n",
    "\n",
    "# Read the data from a CSV file\n",
    "data = pd.read_csv('result_df.csv')\n",
    "\n",
    "# Describe the data to check for issues\n",
    "data.describe()\n",
    "\n",
    "# Strip white-space function\n",
    "def stripper(x):\n",
    "    return x.strip()\n",
    "\n",
    "data['ORF'] = data['ORF'].apply(stripper)\n",
    "\n",
    "cor1 = data.corr(numeric_only=True)\n",
    "cor2 = data.corr(method='spearman', numeric_only=True)\n",
    "\n",
    "# Assuming cor1 is the correlation matrix dataframe from your previous analysis\n",
    "# Saving cor1 to a CSV file\n",
    "cor1.to_csv(\"correlation_matrix.csv\")\n",
    "\n",
    "# Function to calculate partial correlation\n",
    "def partial_cor(cor, var_name):\n",
    "    partial_correlation = {}\n",
    "    for col1 in cor.columns:\n",
    "        for col2 in cor.columns:\n",
    "            if col1 != col2 and col1 != var_name and col2 != var_name:\n",
    "                cor1 = cor.loc[col1, col2]\n",
    "                cor2 = cor.loc[col1, var_name]\n",
    "                cor3 = cor.loc[col2, var_name]\n",
    "                partial_correlation[(col1, col2)] = (cor1 - cor2 * cor3) / np.sqrt((1 - cor2**2) * (1 - cor3**2))\n",
    "    return pd.Series(partial_correlation).unstack()\n",
    "\n",
    "# Load the correlation matrix dataframe from file\n",
    "df = pd.read_csv(\"correlation_matrix.csv\", index_col=0)\n",
    "\n",
    "# Test the partial_cor function\n",
    "partial_correlation_matrix = partial_cor(df, 'CAI')\n",
    "print(\"Partial Correlation Matrix:\")\n",
    "print(partial_correlation_matrix)\n",
    "\n"
   ]
  },
  {
   "attachments": {},
   "cell_type": "markdown",
   "metadata": {},
   "source": [
    "# 2. Results from Wall et al.\n",
    "\n",
    "Download the HTML page for the Wall et al paper from the PNAS website (https://www.pnas.org/content/102/15/5483/) using your browser. Then use BeautifulSoup (not pandas) to parse the HTML and scrape Table 1, finally print the value of the BeautifulSoup variable containing the table using the `IPYthon.display.Markdown` function to display the table. \n",
    "\n",
    "(Unfortunately, we cannot automatically download the HMTL for the page anymore because the PNAS site uses Cloudfare to prevent users from scraping so we cannot use python's request package to download the page)"
   ]
  },
  {
   "cell_type": "code",
   "execution_count": 3,
   "metadata": {
    "collapsed": true
   },
   "outputs": [
    {
     "data": {
      "text/markdown": [
       "| Evolution rate   | Dispensability   | rdk      | Expression     | rxk       | rdk|x    | xk|d      |\n",
       "|:-----------------|:-----------------|:---------|:---------------|:----------|:---------|:----------|\n",
       "| dN/dS′           | Warringer et al. | 0.239 np | mRNA abundance | -0.368 np | 0.183 np | -0.328 np |\n",
       "|                  |                  |          | CAI            | -0.528 np | 0.190 np | -0.513 np |\n",
       "| dN               | Warringer et al. | 0.237 np | mRNA abundance | -0.363 np | 0.181 np | -0.324 np |\n",
       "|                  |                  |          | CAI            | -0.493 np | 0.189 np | -0.478 np |\n",
       "| dN/dS′           | SGTC             | 0.230 np | mRNA abundance | -0.368 np | 0.166 np | -0.330 np |\n",
       "|                  |                  |          | CAI            | -0.528 np | 0.187 np | -0.516 np |\n",
       "| dN               | SGTC             | 0.227 np | mRNA abundance | -0.363 np | 0.163 np | -0.325 np |\n",
       "|                  |                  |          | CAI            | -0.493 np | 0.185 np | -0.479 np |\n",
       "| dN/dS′           | Warringer et al. | 0.274    | mRNA abundance | -0.279    | 0.259    | -0.256    |\n",
       "|                  |                  |          | CAI            | -0.522    | 0.241    | -0.505    |\n",
       "| dN               | Warringer et al. | 0.274    | mRNA abundance | -0.282    | 0.259    | -0.259    |\n",
       "|                  |                  |          | CAI            | -0.509    | 0.241    | -0.491    |\n",
       "| dN/dS′           | SGTC             | 0.264    | mRNA abundance | -0.279    | 0.252    | -0.258    |\n",
       "|                  |                  |          | CAI            | -0.522    | 0.232    | -0.505    |\n",
       "| dN               | SGTC             | 0.264    | mRNA abundance | -0.282    | 0.251    | -0.262    |\n",
       "|                  |                  |          | CAI            | -0.509    | 0.232    | -0.491    |"
      ],
      "text/plain": [
       "<IPython.core.display.Markdown object>"
      ]
     },
     "execution_count": 3,
     "metadata": {},
     "output_type": "execute_result"
    }
   ],
   "source": [
    "from bs4 import BeautifulSoup\n",
    "import pandas as pd\n",
    "from IPython.display import Markdown\n",
    "\n",
    "# Load the HTML file (assuming it's saved as 'wall_et_al_paper.html')\n",
    "with open('wall_et_al_paper.html', 'r', encoding='utf-8') as file:\n",
    "    html_content = file.read()\n",
    "\n",
    "# Parse the HTML content using BeautifulSoup\n",
    "soup = BeautifulSoup(html_content, 'html.parser')\n",
    "\n",
    "table = soup.find(\"table\")\n",
    "fullTable2 = []\n",
    "\n",
    "rows = table.find_all('tr')\n",
    "for tr in rows:\n",
    "    line = []\n",
    "    if tr.find_all('th'):\n",
    "        columnNames = []\n",
    "        for th in tr.find_all('th'):\n",
    "            columnNames.append(th.get_text().strip())\n",
    "    else:\n",
    "        for td in tr.find_all('td'):\n",
    "            line.append(td.get_text().strip())\n",
    "        fullTable2.append(line)\n",
    "\n",
    "newTable = pd.DataFrame(fullTable2, columns=columnNames)\n",
    "# Convert DataFrame to Markdown format\n",
    "markdown_table = newTable.to_markdown(index=False)\n",
    "\n",
    "# Display the Markdown table\n",
    "Markdown(markdown_table)\n"
   ]
  }
 ],
 "metadata": {
  "kernelspec": {
   "display_name": "base",
   "language": "python",
   "name": "python3"
  },
  "language_info": {
   "codemirror_mode": {
    "name": "ipython",
    "version": 3
   },
   "file_extension": ".py",
   "mimetype": "text/x-python",
   "name": "python",
   "nbconvert_exporter": "python",
   "pygments_lexer": "ipython3",
   "version": "3.11.7"
  },
  "vscode": {
   "interpreter": {
    "hash": "d65c0cc447810067c5360fe9f92345cbb6ea5cebea71d6b4fb533385ef0f3420"
   }
  }
 },
 "nbformat": 4,
 "nbformat_minor": 2
}

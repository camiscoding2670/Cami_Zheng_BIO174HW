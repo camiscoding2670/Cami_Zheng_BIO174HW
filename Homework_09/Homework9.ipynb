{
 "cells": [
  {
   "cell_type": "markdown",
   "metadata": {},
   "source": [
    "# Homework 9:"
   ]
  },
  {
   "cell_type": "markdown",
   "metadata": {},
   "source": [
    "Repeat the procedure we did in class to map the cities of the US using a map and the results of a PCoA, but using a different country of your choosing.\n",
    "\n",
    "Tips:\n",
    "\n",
    "These are the packages that you will need:\n",
    "\n",
    "```\n",
    "import geopy.distance\n",
    "import pandas as pd\n",
    "import plotly.express as px\n",
    "import skbio\n",
    "```\n",
    "\n",
    "You will also need the `world_cities.csv` file to get the city names and coordinates for your country.\n",
    "\n",
    "1. Choose your country.\n",
    "2. Get only the cities of that country from the `world_cities.csv` file.\n",
    "3. Sort the cities by population and select the 20 to 50 most populated cities.\n",
    "4. Create a data frame with only these cities.\n",
    "5. Calculate the distance between the cities using their latitude/longitude data from your data frame (geopy).\n",
    "6. Create a data frame with a table of all the distances between each paur of cities. This needs to be in a distance matrix format, just like we imported from the `cities.csv` file for the US.\n",
    "7. Perform the PCoA using skbio.\n",
    "8. Plot the results of the PCoA using plotly express.\n",
    "9. Plot the map of the country with the cities using the latitude/longitude from your table using plotly express.\n",
    "10. That's it!"
   ]
  },
  {
   "cell_type": "code",
   "execution_count": 4,
   "metadata": {},
   "outputs": [
    {
     "ename": "ModuleNotFoundError",
     "evalue": "No module named 'geopy'",
     "output_type": "error",
     "traceback": [
      "\u001b[0;31m---------------------------------------------------------------------------\u001b[0m",
      "\u001b[0;31mModuleNotFoundError\u001b[0m                       Traceback (most recent call last)",
      "Cell \u001b[0;32mIn[4], line 1\u001b[0m\n\u001b[0;32m----> 1\u001b[0m \u001b[38;5;28;01mimport\u001b[39;00m \u001b[38;5;21;01mgeopy\u001b[39;00m\u001b[38;5;21;01m.\u001b[39;00m\u001b[38;5;21;01mdistance\u001b[39;00m\n\u001b[1;32m      2\u001b[0m \u001b[38;5;28;01mimport\u001b[39;00m \u001b[38;5;21;01mpandas\u001b[39;00m \u001b[38;5;28;01mas\u001b[39;00m \u001b[38;5;21;01mpd\u001b[39;00m\n\u001b[1;32m      3\u001b[0m \u001b[38;5;28;01mimport\u001b[39;00m \u001b[38;5;21;01mplotly\u001b[39;00m\u001b[38;5;21;01m.\u001b[39;00m\u001b[38;5;21;01mexpress\u001b[39;00m \u001b[38;5;28;01mas\u001b[39;00m \u001b[38;5;21;01mpx\u001b[39;00m\n",
      "\u001b[0;31mModuleNotFoundError\u001b[0m: No module named 'geopy'"
     ]
    }
   ],
   "source": [
    "import geopy.distance\n",
    "import pandas as pd\n",
    "import plotly.express as px\n",
    "import skbio\n",
    "\n",
    "# Load world cities data\n",
    "world_cities = pd.read_csv('world_cities.csv')\n",
    "\n",
    "# 1. Choose your country\n",
    "country = 'France'  # Example: France\n",
    "\n",
    "# 2. Get only the cities of that country\n",
    "country_cities = world_cities[world_cities['country'] == country]\n",
    "\n",
    "# 3. Sort the cities by population and select the 20 to 50 most populated cities\n",
    "sorted_cities = country_cities.sort_values(by='population', ascending=False)\n",
    "selected_cities = sorted_cities.iloc[20:50]  # Adjust range as needed\n",
    "\n",
    "# 4. Create a data frame with only these cities\n",
    "cities_df = selected_cities[['city', 'lat', 'lng']].reset_index(drop=True)\n",
    "\n",
    "# 5. Calculate the distance between the cities using their latitude/longitude data\n",
    "distances = pd.DataFrame(index=cities_df['city'], columns=cities_df['city'])\n",
    "\n",
    "for city1 in cities_df.itertuples():\n",
    "    for city2 in cities_df.itertuples():\n",
    "        coord1 = (city1.lat, city1.lng)\n",
    "        coord2 = (city2.lat, city2.lng)\n",
    "        distances.loc[city1.city, city2.city] = geopy.distance.geodesic(coord1, coord2).km\n",
    "\n",
    "# 6. Create a data frame with a table of all the distances between each pair of cities\n",
    "# Convert distances to a distance matrix format\n",
    "distance_matrix = skbio.DistanceMatrix(distances.values, ids=distances.index)\n",
    "\n",
    "# 7. Perform the PCoA using skbio\n",
    "pcoa_results = skbio.stats.ordination.pcoa(distance_matrix)\n",
    "\n",
    "# 8. Plot the results of the PCoA using plotly express\n",
    "pcoa_df = pd.DataFrame(pcoa_results.samples, columns=['PC1', 'PC2'], index=distances.index)\n",
    "pcoa_fig = px.scatter(pcoa_df, x='PC1', y='PC2', text=pcoa_df.index, title='PCoA of Cities in ' + country)\n",
    "\n",
    "# 9. Plot the map of the country with the cities using the latitude/longitude\n",
    "map_fig = px.scatter_mapbox(cities_df, lat='lat', lon='lng', hover_name='city', zoom=4,\n",
    "                            title='Cities in ' + country, height=600)\n",
    "map_fig.update_layout(mapbox_style=\"carto-positron\")\n",
    "\n",
    "# 10. Display plots\n",
    "pcoa_fig.show()\n",
    "map_fig.show()\n"
   ]
  }
 ],
 "metadata": {
  "kernelspec": {
   "display_name": "class",
   "language": "python",
   "name": "python3"
  },
  "language_info": {
   "codemirror_mode": {
    "name": "ipython",
    "version": 3
   },
   "file_extension": ".py",
   "mimetype": "text/x-python",
   "name": "python",
   "nbconvert_exporter": "python",
   "pygments_lexer": "ipython3",
   "version": "3.11.7"
  },
  "orig_nbformat": 4
 },
 "nbformat": 4,
 "nbformat_minor": 2
}

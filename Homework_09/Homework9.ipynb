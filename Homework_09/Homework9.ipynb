{
 "cells": [
  {
   "cell_type": "markdown",
   "metadata": {},
   "source": [
    "# Homework 9:"
   ]
  },
  {
   "cell_type": "markdown",
   "metadata": {},
   "source": [
    "Repeat the procedure we did in class to map the cities of the US using a map and the results of a PCoA, but using a different country of your choosing.\n",
    "\n",
    "Tips:\n",
    "\n",
    "These are the packages that you will need:\n",
    "\n",
    "```\n",
    "import geopy.distance\n",
    "import pandas as pd\n",
    "import plotly.express as px\n",
    "import skbio\n",
    "```\n",
    "\n",
    "You will also need the `world_cities.csv` file to get the city names and coordinates for your country.\n",
    "\n",
    "1. Choose your country.\n",
    "2. Get only the cities of that country from the `world_cities.csv` file.\n",
    "3. Sort the cities by population and select the 20 to 50 most populated cities.\n",
    "4. Create a data frame with only these cities.\n",
    "5. Calculate the distance between the cities using their latitude/longitude data from your data frame (geopy).\n",
    "6. Create a data frame with a table of all the distances between each paur of cities. This needs to be in a distance matrix format, just like we imported from the `cities.csv` file for the US.\n",
    "7. Perform the PCoA using skbio.\n",
    "8. Plot the results of the PCoA using plotly express.\n",
    "9. Plot the map of the country with the cities using the latitude/longitude from your table using plotly express. Each city should have its name as label.\n",
    "10. That's it!"
   ]
  },
  {
   "cell_type": "code",
   "execution_count": 41,
   "metadata": {},
   "outputs": [
    {
     "data": {
      "text/html": [
       "<div>\n",
       "<style scoped>\n",
       "    .dataframe tbody tr th:only-of-type {\n",
       "        vertical-align: middle;\n",
       "    }\n",
       "\n",
       "    .dataframe tbody tr th {\n",
       "        vertical-align: top;\n",
       "    }\n",
       "\n",
       "    .dataframe thead th {\n",
       "        text-align: right;\n",
       "    }\n",
       "</style>\n",
       "<table border=\"1\" class=\"dataframe\">\n",
       "  <thead>\n",
       "    <tr style=\"text-align: right;\">\n",
       "      <th></th>\n",
       "      <th>name</th>\n",
       "      <th>lat</th>\n",
       "      <th>long</th>\n",
       "    </tr>\n",
       "  </thead>\n",
       "  <tbody>\n",
       "    <tr>\n",
       "      <th>17305</th>\n",
       "      <td>Karlsruhe</td>\n",
       "      <td>49.00</td>\n",
       "      <td>8.40</td>\n",
       "    </tr>\n",
       "    <tr>\n",
       "      <th>139</th>\n",
       "      <td>Aachen</td>\n",
       "      <td>50.77</td>\n",
       "      <td>6.09</td>\n",
       "    </tr>\n",
       "    <tr>\n",
       "      <th>41722</th>\n",
       "      <td>Wiesbaden</td>\n",
       "      <td>50.08</td>\n",
       "      <td>8.23</td>\n",
       "    </tr>\n",
       "    <tr>\n",
       "      <th>24914</th>\n",
       "      <td>Munster</td>\n",
       "      <td>51.96</td>\n",
       "      <td>7.62</td>\n",
       "    </tr>\n",
       "    <tr>\n",
       "      <th>12350</th>\n",
       "      <td>Gelsenkirchen</td>\n",
       "      <td>51.51</td>\n",
       "      <td>7.11</td>\n",
       "    </tr>\n",
       "    <tr>\n",
       "      <th>24317</th>\n",
       "      <td>Monchengladbach</td>\n",
       "      <td>51.20</td>\n",
       "      <td>6.42</td>\n",
       "    </tr>\n",
       "    <tr>\n",
       "      <th>2371</th>\n",
       "      <td>Augsburg</td>\n",
       "      <td>48.36</td>\n",
       "      <td>10.89</td>\n",
       "    </tr>\n",
       "    <tr>\n",
       "      <th>7265</th>\n",
       "      <td>Chemnitz</td>\n",
       "      <td>50.83</td>\n",
       "      <td>12.92</td>\n",
       "    </tr>\n",
       "    <tr>\n",
       "      <th>5491</th>\n",
       "      <td>Brunswick</td>\n",
       "      <td>52.27</td>\n",
       "      <td>10.51</td>\n",
       "    </tr>\n",
       "    <tr>\n",
       "      <th>13727</th>\n",
       "      <td>Halle</td>\n",
       "      <td>51.48</td>\n",
       "      <td>11.96</td>\n",
       "    </tr>\n",
       "    <tr>\n",
       "      <th>19100</th>\n",
       "      <td>Krefeld</td>\n",
       "      <td>51.33</td>\n",
       "      <td>6.55</td>\n",
       "    </tr>\n",
       "    <tr>\n",
       "      <th>18001</th>\n",
       "      <td>Kiel</td>\n",
       "      <td>54.32</td>\n",
       "      <td>10.12</td>\n",
       "    </tr>\n",
       "    <tr>\n",
       "      <th>22078</th>\n",
       "      <td>Magdeburg</td>\n",
       "      <td>52.13</td>\n",
       "      <td>11.62</td>\n",
       "    </tr>\n",
       "    <tr>\n",
       "      <th>26782</th>\n",
       "      <td>Oberhausen</td>\n",
       "      <td>51.47</td>\n",
       "      <td>6.86</td>\n",
       "    </tr>\n",
       "    <tr>\n",
       "      <th>11812</th>\n",
       "      <td>Freiburg</td>\n",
       "      <td>47.99</td>\n",
       "      <td>7.85</td>\n",
       "    </tr>\n",
       "    <tr>\n",
       "      <th>21584</th>\n",
       "      <td>Lubeck</td>\n",
       "      <td>53.87</td>\n",
       "      <td>10.66</td>\n",
       "    </tr>\n",
       "    <tr>\n",
       "      <th>10814</th>\n",
       "      <td>Erfurt</td>\n",
       "      <td>50.99</td>\n",
       "      <td>11.03</td>\n",
       "    </tr>\n",
       "    <tr>\n",
       "      <th>31682</th>\n",
       "      <td>Rostock</td>\n",
       "      <td>54.09</td>\n",
       "      <td>12.10</td>\n",
       "    </tr>\n",
       "    <tr>\n",
       "      <th>13612</th>\n",
       "      <td>Hagen</td>\n",
       "      <td>51.37</td>\n",
       "      <td>7.46</td>\n",
       "    </tr>\n",
       "    <tr>\n",
       "      <th>17417</th>\n",
       "      <td>Kassel</td>\n",
       "      <td>51.32</td>\n",
       "      <td>9.48</td>\n",
       "    </tr>\n",
       "    <tr>\n",
       "      <th>13783</th>\n",
       "      <td>Hamm</td>\n",
       "      <td>51.67</td>\n",
       "      <td>7.80</td>\n",
       "    </tr>\n",
       "    <tr>\n",
       "      <th>22191</th>\n",
       "      <td>Mainz</td>\n",
       "      <td>50.00</td>\n",
       "      <td>8.26</td>\n",
       "    </tr>\n",
       "    <tr>\n",
       "      <th>31958</th>\n",
       "      <td>Saarbrucken</td>\n",
       "      <td>49.25</td>\n",
       "      <td>6.97</td>\n",
       "    </tr>\n",
       "    <tr>\n",
       "      <th>14277</th>\n",
       "      <td>Herne</td>\n",
       "      <td>51.54</td>\n",
       "      <td>7.21</td>\n",
       "    </tr>\n",
       "    <tr>\n",
       "      <th>24868</th>\n",
       "      <td>Mulheim</td>\n",
       "      <td>51.43</td>\n",
       "      <td>6.86</td>\n",
       "    </tr>\n",
       "    <tr>\n",
       "      <th>27470</th>\n",
       "      <td>Osnabruck</td>\n",
       "      <td>52.28</td>\n",
       "      <td>8.05</td>\n",
       "    </tr>\n",
       "    <tr>\n",
       "      <th>35720</th>\n",
       "      <td>Solingen</td>\n",
       "      <td>51.18</td>\n",
       "      <td>7.06</td>\n",
       "    </tr>\n",
       "    <tr>\n",
       "      <th>20810</th>\n",
       "      <td>Leverkusen</td>\n",
       "      <td>51.04</td>\n",
       "      <td>6.99</td>\n",
       "    </tr>\n",
       "    <tr>\n",
       "      <th>21640</th>\n",
       "      <td>Ludwigshafen</td>\n",
       "      <td>49.48</td>\n",
       "      <td>8.44</td>\n",
       "    </tr>\n",
       "    <tr>\n",
       "      <th>27051</th>\n",
       "      <td>Oldenburg</td>\n",
       "      <td>53.15</td>\n",
       "      <td>8.21</td>\n",
       "    </tr>\n",
       "  </tbody>\n",
       "</table>\n",
       "</div>"
      ],
      "text/plain": [
       "                  name    lat   long\n",
       "17305        Karlsruhe  49.00   8.40\n",
       "139             Aachen  50.77   6.09\n",
       "41722        Wiesbaden  50.08   8.23\n",
       "24914          Munster  51.96   7.62\n",
       "12350    Gelsenkirchen  51.51   7.11\n",
       "24317  Monchengladbach  51.20   6.42\n",
       "2371          Augsburg  48.36  10.89\n",
       "7265          Chemnitz  50.83  12.92\n",
       "5491         Brunswick  52.27  10.51\n",
       "13727            Halle  51.48  11.96\n",
       "19100          Krefeld  51.33   6.55\n",
       "18001             Kiel  54.32  10.12\n",
       "22078        Magdeburg  52.13  11.62\n",
       "26782       Oberhausen  51.47   6.86\n",
       "11812         Freiburg  47.99   7.85\n",
       "21584           Lubeck  53.87  10.66\n",
       "10814           Erfurt  50.99  11.03\n",
       "31682          Rostock  54.09  12.10\n",
       "13612            Hagen  51.37   7.46\n",
       "17417           Kassel  51.32   9.48\n",
       "13783             Hamm  51.67   7.80\n",
       "22191            Mainz  50.00   8.26\n",
       "31958      Saarbrucken  49.25   6.97\n",
       "14277            Herne  51.54   7.21\n",
       "24868          Mulheim  51.43   6.86\n",
       "27470        Osnabruck  52.28   8.05\n",
       "35720         Solingen  51.18   7.06\n",
       "20810       Leverkusen  51.04   6.99\n",
       "21640     Ludwigshafen  49.48   8.44\n",
       "27051        Oldenburg  53.15   8.21"
      ]
     },
     "execution_count": 41,
     "metadata": {},
     "output_type": "execute_result"
    }
   ],
   "source": [
    "import pandas as pd\n",
    "import geopy.distance as geo\n",
    "import plotly.express as px\n",
    "import pcoa\n",
    "import numpy as np\n",
    "from math import radians, cos, sin, asin, sqrt\n",
    "\n",
    "# Load world cities data\n",
    "world_cities = pd.read_csv('world_cities.csv',index_col=0,sep=\"\\t\")\n",
    "\n",
    "# Filter cities from Germany\n",
    "german_cities = world_cities[world_cities['country.etc'] == 'Germany']\n",
    "\n",
    "# Sort cities by population and select top 20 to 50\n",
    "sorted_german_cities = german_cities.sort_values(by='pop', ascending=False)\n",
    "selected_german_cities = sorted_german_cities.iloc[20:50]\n",
    "\n",
    "# Create a data frame with selected cities\n",
    "german_cities_df = selected_german_cities[['name', 'lat', 'long']]\n",
    "\n",
    "german_cities_df"
   ]
  },
  {
   "cell_type": "code",
   "execution_count": 43,
   "metadata": {},
   "outputs": [
    {
     "data": {
      "text/html": [
       "<div>\n",
       "<style scoped>\n",
       "    .dataframe tbody tr th:only-of-type {\n",
       "        vertical-align: middle;\n",
       "    }\n",
       "\n",
       "    .dataframe tbody tr th {\n",
       "        vertical-align: top;\n",
       "    }\n",
       "\n",
       "    .dataframe thead th {\n",
       "        text-align: right;\n",
       "    }\n",
       "</style>\n",
       "<table border=\"1\" class=\"dataframe\">\n",
       "  <thead>\n",
       "    <tr style=\"text-align: right;\">\n",
       "      <th>name</th>\n",
       "      <th>Karlsruhe</th>\n",
       "      <th>Aachen</th>\n",
       "      <th>Wiesbaden</th>\n",
       "      <th>Munster</th>\n",
       "      <th>Gelsenkirchen</th>\n",
       "      <th>Monchengladbach</th>\n",
       "      <th>Augsburg</th>\n",
       "      <th>Chemnitz</th>\n",
       "      <th>Brunswick</th>\n",
       "      <th>Halle</th>\n",
       "      <th>...</th>\n",
       "      <th>Hamm</th>\n",
       "      <th>Mainz</th>\n",
       "      <th>Saarbrucken</th>\n",
       "      <th>Herne</th>\n",
       "      <th>Mulheim</th>\n",
       "      <th>Osnabruck</th>\n",
       "      <th>Solingen</th>\n",
       "      <th>Leverkusen</th>\n",
       "      <th>Ludwigshafen</th>\n",
       "      <th>Oldenburg</th>\n",
       "    </tr>\n",
       "    <tr>\n",
       "      <th>name</th>\n",
       "      <th></th>\n",
       "      <th></th>\n",
       "      <th></th>\n",
       "      <th></th>\n",
       "      <th></th>\n",
       "      <th></th>\n",
       "      <th></th>\n",
       "      <th></th>\n",
       "      <th></th>\n",
       "      <th></th>\n",
       "      <th></th>\n",
       "      <th></th>\n",
       "      <th></th>\n",
       "      <th></th>\n",
       "      <th></th>\n",
       "      <th></th>\n",
       "      <th></th>\n",
       "      <th></th>\n",
       "      <th></th>\n",
       "      <th></th>\n",
       "      <th></th>\n",
       "    </tr>\n",
       "  </thead>\n",
       "  <tbody>\n",
       "    <tr>\n",
       "      <th>Karlsruhe</th>\n",
       "      <td>0.000000</td>\n",
       "      <td>257.496954</td>\n",
       "      <td>120.746241</td>\n",
       "      <td>333.881776</td>\n",
       "      <td>293.950928</td>\n",
       "      <td>282.729918</td>\n",
       "      <td>196.677841</td>\n",
       "      <td>383.067179</td>\n",
       "      <td>393.152972</td>\n",
       "      <td>374.873445</td>\n",
       "      <td>...</td>\n",
       "      <td>300.052112</td>\n",
       "      <td>111.680732</td>\n",
       "      <td>108.011299</td>\n",
       "      <td>294.986813</td>\n",
       "      <td>291.774225</td>\n",
       "      <td>365.709324</td>\n",
       "      <td>260.743864</td>\n",
       "      <td>248.379100</td>\n",
       "      <td>53.462310</td>\n",
       "      <td>461.877417</td>\n",
       "    </tr>\n",
       "    <tr>\n",
       "      <th>Aachen</th>\n",
       "      <td>257.496954</td>\n",
       "      <td>0.000000</td>\n",
       "      <td>170.334825</td>\n",
       "      <td>169.940818</td>\n",
       "      <td>108.963267</td>\n",
       "      <td>53.153578</td>\n",
       "      <td>438.504376</td>\n",
       "      <td>481.383269</td>\n",
       "      <td>349.161265</td>\n",
       "      <td>418.352842</td>\n",
       "      <td>...</td>\n",
       "      <td>155.872106</td>\n",
       "      <td>176.498125</td>\n",
       "      <td>180.449018</td>\n",
       "      <td>116.093692</td>\n",
       "      <td>91.105035</td>\n",
       "      <td>216.149499</td>\n",
       "      <td>81.986036</td>\n",
       "      <td>70.070384</td>\n",
       "      <td>220.953310</td>\n",
       "      <td>302.230890</td>\n",
       "    </tr>\n",
       "    <tr>\n",
       "      <th>Wiesbaden</th>\n",
       "      <td>120.746241</td>\n",
       "      <td>170.334825</td>\n",
       "      <td>0.000000</td>\n",
       "      <td>213.480091</td>\n",
       "      <td>177.595586</td>\n",
       "      <td>178.641919</td>\n",
       "      <td>272.255506</td>\n",
       "      <td>343.292605</td>\n",
       "      <td>291.144402</td>\n",
       "      <td>305.662471</td>\n",
       "      <td>...</td>\n",
       "      <td>179.450740</td>\n",
       "      <td>9.154226</td>\n",
       "      <td>129.596700</td>\n",
       "      <td>177.613073</td>\n",
       "      <td>178.598316</td>\n",
       "      <td>245.076925</td>\n",
       "      <td>147.732731</td>\n",
       "      <td>138.287352</td>\n",
       "      <td>68.427270</td>\n",
       "      <td>341.570905</td>\n",
       "    </tr>\n",
       "    <tr>\n",
       "      <th>Munster</th>\n",
       "      <td>333.881776</td>\n",
       "      <td>169.940818</td>\n",
       "      <td>213.480091</td>\n",
       "      <td>0.000000</td>\n",
       "      <td>61.221535</td>\n",
       "      <td>118.610777</td>\n",
       "      <td>463.512842</td>\n",
       "      <td>389.606388</td>\n",
       "      <td>200.938709</td>\n",
       "      <td>304.587885</td>\n",
       "      <td>...</td>\n",
       "      <td>34.571763</td>\n",
       "      <td>222.627490</td>\n",
       "      <td>304.950246</td>\n",
       "      <td>54.638924</td>\n",
       "      <td>78.984709</td>\n",
       "      <td>46.208680</td>\n",
       "      <td>95.071249</td>\n",
       "      <td>111.313047</td>\n",
       "      <td>281.889111</td>\n",
       "      <td>138.333766</td>\n",
       "    </tr>\n",
       "    <tr>\n",
       "      <th>Gelsenkirchen</th>\n",
       "      <td>293.950928</td>\n",
       "      <td>108.963267</td>\n",
       "      <td>177.595586</td>\n",
       "      <td>61.221535</td>\n",
       "      <td>0.000000</td>\n",
       "      <td>59.158873</td>\n",
       "      <td>443.044904</td>\n",
       "      <td>413.221150</td>\n",
       "      <td>248.853559</td>\n",
       "      <td>336.778278</td>\n",
       "      <td>...</td>\n",
       "      <td>51.025246</td>\n",
       "      <td>186.547339</td>\n",
       "      <td>251.591170</td>\n",
       "      <td>7.701146</td>\n",
       "      <td>19.518956</td>\n",
       "      <td>107.363029</td>\n",
       "      <td>36.879023</td>\n",
       "      <td>52.955408</td>\n",
       "      <td>244.730495</td>\n",
       "      <td>197.289266</td>\n",
       "    </tr>\n",
       "    <tr>\n",
       "      <th>Monchengladbach</th>\n",
       "      <td>282.729918</td>\n",
       "      <td>53.153578</td>\n",
       "      <td>178.641919</td>\n",
       "      <td>118.610777</td>\n",
       "      <td>59.158873</td>\n",
       "      <td>0.000000</td>\n",
       "      <td>450.869693</td>\n",
       "      <td>457.839565</td>\n",
       "      <td>306.549145</td>\n",
       "      <td>387.207196</td>\n",
       "      <td>...</td>\n",
       "      <td>109.283392</td>\n",
       "      <td>186.508843</td>\n",
       "      <td>220.425606</td>\n",
       "      <td>66.763175</td>\n",
       "      <td>39.948238</td>\n",
       "      <td>164.662092</td>\n",
       "      <td>44.797926</td>\n",
       "      <td>43.698830</td>\n",
       "      <td>239.321113</td>\n",
       "      <td>249.128147</td>\n",
       "    </tr>\n",
       "    <tr>\n",
       "      <th>Augsburg</th>\n",
       "      <td>196.677841</td>\n",
       "      <td>438.504376</td>\n",
       "      <td>272.255506</td>\n",
       "      <td>463.512842</td>\n",
       "      <td>443.044904</td>\n",
       "      <td>450.869693</td>\n",
       "      <td>0.000000</td>\n",
       "      <td>311.431405</td>\n",
       "      <td>435.768657</td>\n",
       "      <td>355.424422</td>\n",
       "      <td>...</td>\n",
       "      <td>429.556561</td>\n",
       "      <td>264.606746</td>\n",
       "      <td>304.442534</td>\n",
       "      <td>441.310968</td>\n",
       "      <td>447.572182</td>\n",
       "      <td>480.574031</td>\n",
       "      <td>417.617256</td>\n",
       "      <td>409.775149</td>\n",
       "      <td>218.510015</td>\n",
       "      <td>565.316698</td>\n",
       "    </tr>\n",
       "    <tr>\n",
       "      <th>Chemnitz</th>\n",
       "      <td>383.067179</td>\n",
       "      <td>481.383269</td>\n",
       "      <td>343.292605</td>\n",
       "      <td>389.606388</td>\n",
       "      <td>413.221150</td>\n",
       "      <td>457.839565</td>\n",
       "      <td>311.431405</td>\n",
       "      <td>0.000000</td>\n",
       "      <td>231.521857</td>\n",
       "      <td>98.691507</td>\n",
       "      <td>...</td>\n",
       "      <td>369.403089</td>\n",
       "      <td>343.777452</td>\n",
       "      <td>460.874997</td>\n",
       "      <td>406.859104</td>\n",
       "      <td>429.298443</td>\n",
       "      <td>374.213713</td>\n",
       "      <td>413.041645</td>\n",
       "      <td>417.394386</td>\n",
       "      <td>353.549755</td>\n",
       "      <td>413.759045</td>\n",
       "    </tr>\n",
       "    <tr>\n",
       "      <th>Brunswick</th>\n",
       "      <td>393.152972</td>\n",
       "      <td>349.161265</td>\n",
       "      <td>291.144402</td>\n",
       "      <td>200.938709</td>\n",
       "      <td>248.853559</td>\n",
       "      <td>306.549145</td>\n",
       "      <td>435.768657</td>\n",
       "      <td>231.521857</td>\n",
       "      <td>0.000000</td>\n",
       "      <td>133.030460</td>\n",
       "      <td>...</td>\n",
       "      <td>197.830817</td>\n",
       "      <td>297.586599</td>\n",
       "      <td>418.526761</td>\n",
       "      <td>241.177220</td>\n",
       "      <td>268.278672</td>\n",
       "      <td>167.906325</td>\n",
       "      <td>267.425113</td>\n",
       "      <td>279.364750</td>\n",
       "      <td>342.836445</td>\n",
       "      <td>183.708710</td>\n",
       "    </tr>\n",
       "    <tr>\n",
       "      <th>Halle</th>\n",
       "      <td>374.873445</td>\n",
       "      <td>418.352842</td>\n",
       "      <td>305.662471</td>\n",
       "      <td>304.587885</td>\n",
       "      <td>336.778278</td>\n",
       "      <td>387.207196</td>\n",
       "      <td>355.424422</td>\n",
       "      <td>98.691507</td>\n",
       "      <td>133.030460</td>\n",
       "      <td>0.000000</td>\n",
       "      <td>...</td>\n",
       "      <td>289.132321</td>\n",
       "      <td>308.684996</td>\n",
       "      <td>432.962691</td>\n",
       "      <td>329.779879</td>\n",
       "      <td>354.467274</td>\n",
       "      <td>283.537546</td>\n",
       "      <td>343.084572</td>\n",
       "      <td>350.295141</td>\n",
       "      <td>334.475055</td>\n",
       "      <td>316.049388</td>\n",
       "    </tr>\n",
       "    <tr>\n",
       "      <th>Krefeld</th>\n",
       "      <td>290.909238</td>\n",
       "      <td>70.154472</td>\n",
       "      <td>182.802328</td>\n",
       "      <td>101.972783</td>\n",
       "      <td>43.800717</td>\n",
       "      <td>17.073570</td>\n",
       "      <td>454.342735</td>\n",
       "      <td>449.696150</td>\n",
       "      <td>292.463972</td>\n",
       "      <td>376.737454</td>\n",
       "      <td>...</td>\n",
       "      <td>94.683547</td>\n",
       "      <td>191.055865</td>\n",
       "      <td>233.294833</td>\n",
       "      <td>51.500267</td>\n",
       "      <td>24.281771</td>\n",
       "      <td>147.903953</td>\n",
       "      <td>39.320984</td>\n",
       "      <td>44.579273</td>\n",
       "      <td>245.749494</td>\n",
       "      <td>232.085292</td>\n",
       "    </tr>\n",
       "    <tr>\n",
       "      <th>Kiel</th>\n",
       "      <td>603.704881</td>\n",
       "      <td>480.243735</td>\n",
       "      <td>489.118317</td>\n",
       "      <td>311.354902</td>\n",
       "      <td>372.462027</td>\n",
       "      <td>427.585305</td>\n",
       "      <td>665.233455</td>\n",
       "      <td>432.185998</td>\n",
       "      <td>229.624391</td>\n",
       "      <td>339.405901</td>\n",
       "      <td>...</td>\n",
       "      <td>333.478336</td>\n",
       "      <td>497.207416</td>\n",
       "      <td>604.380203</td>\n",
       "      <td>365.993708</td>\n",
       "      <td>389.282576</td>\n",
       "      <td>265.663879</td>\n",
       "      <td>405.854760</td>\n",
       "      <td>421.846198</td>\n",
       "      <td>550.756191</td>\n",
       "      <td>181.218055</td>\n",
       "    </tr>\n",
       "    <tr>\n",
       "      <th>Magdeburg</th>\n",
       "      <td>416.173874</td>\n",
       "      <td>412.998770</td>\n",
       "      <td>329.155346</td>\n",
       "      <td>275.052463</td>\n",
       "      <td>318.480843</td>\n",
       "      <td>374.273799</td>\n",
       "      <td>422.565408</td>\n",
       "      <td>170.508810</td>\n",
       "      <td>77.473866</td>\n",
       "      <td>76.028507</td>\n",
       "      <td>...</td>\n",
       "      <td>267.835679</td>\n",
       "      <td>334.038585</td>\n",
       "      <td>458.751387</td>\n",
       "      <td>310.936701</td>\n",
       "      <td>337.545453</td>\n",
       "      <td>244.604023</td>\n",
       "      <td>332.735712</td>\n",
       "      <td>342.984996</td>\n",
       "      <td>370.267017</td>\n",
       "      <td>257.197982</td>\n",
       "    </tr>\n",
       "    <tr>\n",
       "      <th>Oberhausen</th>\n",
       "      <td>295.884044</td>\n",
       "      <td>94.714960</td>\n",
       "      <td>182.334112</td>\n",
       "      <td>75.704152</td>\n",
       "      <td>17.925146</td>\n",
       "      <td>42.925485</td>\n",
       "      <td>450.896680</td>\n",
       "      <td>429.830650</td>\n",
       "      <td>266.656960</td>\n",
       "      <td>354.270490</td>\n",
       "      <td>...</td>\n",
       "      <td>68.867383</td>\n",
       "      <td>191.066630</td>\n",
       "      <td>247.067794</td>\n",
       "      <td>25.518938</td>\n",
       "      <td>4.450275</td>\n",
       "      <td>121.811923</td>\n",
       "      <td>35.146953</td>\n",
       "      <td>48.692096</td>\n",
       "      <td>248.141887</td>\n",
       "      <td>208.374213</td>\n",
       "    </tr>\n",
       "    <tr>\n",
       "      <th>Freiburg</th>\n",
       "      <td>119.441038</td>\n",
       "      <td>334.529733</td>\n",
       "      <td>234.083753</td>\n",
       "      <td>441.884638</td>\n",
       "      <td>395.118673</td>\n",
       "      <td>371.667565</td>\n",
       "      <td>229.789197</td>\n",
       "      <td>484.710230</td>\n",
       "      <td>512.566754</td>\n",
       "      <td>488.159454</td>\n",
       "      <td>...</td>\n",
       "      <td>409.326446</td>\n",
       "      <td>225.534938</td>\n",
       "      <td>154.404328</td>\n",
       "      <td>397.525487</td>\n",
       "      <td>389.204244</td>\n",
       "      <td>477.397117</td>\n",
       "      <td>359.358441</td>\n",
       "      <td>344.882304</td>\n",
       "      <td>171.282820</td>\n",
       "      <td>574.562070</td>\n",
       "    </tr>\n",
       "    <tr>\n",
       "      <th>Lubeck</th>\n",
       "      <td>564.073926</td>\n",
       "      <td>464.669486</td>\n",
       "      <td>453.488221</td>\n",
       "      <td>294.903218</td>\n",
       "      <td>355.707366</td>\n",
       "      <td>413.445032</td>\n",
       "      <td>613.199786</td>\n",
       "      <td>371.629553</td>\n",
       "      <td>178.343627</td>\n",
       "      <td>280.106038</td>\n",
       "      <td>...</td>\n",
       "      <td>311.712491</td>\n",
       "      <td>461.084635</td>\n",
       "      <td>574.001582</td>\n",
       "      <td>348.644864</td>\n",
       "      <td>373.883483</td>\n",
       "      <td>248.783263</td>\n",
       "      <td>386.294743</td>\n",
       "      <td>401.648052</td>\n",
       "      <td>511.941022</td>\n",
       "      <td>181.207488</td>\n",
       "    </tr>\n",
       "    <tr>\n",
       "      <th>Erfurt</th>\n",
       "      <td>290.746565</td>\n",
       "      <td>348.464765</td>\n",
       "      <td>222.811004</td>\n",
       "      <td>260.308844</td>\n",
       "      <td>279.703855</td>\n",
       "      <td>323.740295</td>\n",
       "      <td>292.690195</td>\n",
       "      <td>134.112666</td>\n",
       "      <td>146.893320</td>\n",
       "      <td>84.796916</td>\n",
       "      <td>...</td>\n",
       "      <td>237.473552</td>\n",
       "      <td>225.278199</td>\n",
       "      <td>348.872838</td>\n",
       "      <td>273.521048</td>\n",
       "      <td>295.441335</td>\n",
       "      <td>251.299886</td>\n",
       "      <td>278.942889</td>\n",
       "      <td>283.526193</td>\n",
       "      <td>249.685961</td>\n",
       "      <td>308.422242</td>\n",
       "    </tr>\n",
       "    <tr>\n",
       "      <th>Rostock</th>\n",
       "      <td>621.547557</td>\n",
       "      <td>550.644383</td>\n",
       "      <td>518.912029</td>\n",
       "      <td>382.693451</td>\n",
       "      <td>442.199233</td>\n",
       "      <td>500.964103</td>\n",
       "      <td>643.029499</td>\n",
       "      <td>367.009686</td>\n",
       "      <td>228.734136</td>\n",
       "      <td>290.599847</td>\n",
       "      <td>...</td>\n",
       "      <td>395.256743</td>\n",
       "      <td>525.664452</td>\n",
       "      <td>644.557534</td>\n",
       "      <td>434.828966</td>\n",
       "      <td>461.046178</td>\n",
       "      <td>337.370333</td>\n",
       "      <td>470.201699</td>\n",
       "      <td>484.804741</td>\n",
       "      <td>571.545114</td>\n",
       "      <td>277.808620</td>\n",
       "    </tr>\n",
       "    <tr>\n",
       "      <th>Hagen</th>\n",
       "      <td>272.029044</td>\n",
       "      <td>116.943547</td>\n",
       "      <td>153.456015</td>\n",
       "      <td>66.570844</td>\n",
       "      <td>28.893802</td>\n",
       "      <td>74.981174</td>\n",
       "      <td>415.710611</td>\n",
       "      <td>387.049859</td>\n",
       "      <td>232.905114</td>\n",
       "      <td>313.184698</td>\n",
       "      <td>...</td>\n",
       "      <td>40.877627</td>\n",
       "      <td>162.548306</td>\n",
       "      <td>238.385840</td>\n",
       "      <td>25.684504</td>\n",
       "      <td>42.285522</td>\n",
       "      <td>109.115025</td>\n",
       "      <td>35.013406</td>\n",
       "      <td>49.262421</td>\n",
       "      <td>221.466750</td>\n",
       "      <td>204.574500</td>\n",
       "    </tr>\n",
       "    <tr>\n",
       "      <th>Kassel</th>\n",
       "      <td>269.342929</td>\n",
       "      <td>245.462204</td>\n",
       "      <td>163.782629</td>\n",
       "      <td>147.134210</td>\n",
       "      <td>166.221963</td>\n",
       "      <td>214.003313</td>\n",
       "      <td>344.480177</td>\n",
       "      <td>247.151105</td>\n",
       "      <td>127.363481</td>\n",
       "      <td>173.496164</td>\n",
       "      <td>...</td>\n",
       "      <td>122.996134</td>\n",
       "      <td>170.298265</td>\n",
       "      <td>291.543549</td>\n",
       "      <td>159.750695</td>\n",
       "      <td>182.831597</td>\n",
       "      <td>145.390953</td>\n",
       "      <td>169.672363</td>\n",
       "      <td>176.870468</td>\n",
       "      <td>217.616789</td>\n",
       "      <td>221.332322</td>\n",
       "    </tr>\n",
       "    <tr>\n",
       "      <th>Hamm</th>\n",
       "      <td>300.052112</td>\n",
       "      <td>155.872106</td>\n",
       "      <td>179.450740</td>\n",
       "      <td>34.571763</td>\n",
       "      <td>51.025246</td>\n",
       "      <td>109.283392</td>\n",
       "      <td>429.556561</td>\n",
       "      <td>369.403089</td>\n",
       "      <td>197.830817</td>\n",
       "      <td>289.132321</td>\n",
       "      <td>...</td>\n",
       "      <td>0.000000</td>\n",
       "      <td>188.583258</td>\n",
       "      <td>275.566954</td>\n",
       "      <td>43.359080</td>\n",
       "      <td>70.457732</td>\n",
       "      <td>70.012997</td>\n",
       "      <td>74.973525</td>\n",
       "      <td>89.979354</td>\n",
       "      <td>247.795517</td>\n",
       "      <td>167.032960</td>\n",
       "    </tr>\n",
       "    <tr>\n",
       "      <th>Mainz</th>\n",
       "      <td>111.680732</td>\n",
       "      <td>176.498125</td>\n",
       "      <td>9.154226</td>\n",
       "      <td>222.627490</td>\n",
       "      <td>186.547339</td>\n",
       "      <td>186.508843</td>\n",
       "      <td>264.606746</td>\n",
       "      <td>343.777452</td>\n",
       "      <td>297.586599</td>\n",
       "      <td>308.684996</td>\n",
       "      <td>...</td>\n",
       "      <td>188.583258</td>\n",
       "      <td>0.000000</td>\n",
       "      <td>125.078355</td>\n",
       "      <td>186.637803</td>\n",
       "      <td>187.294572</td>\n",
       "      <td>254.077228</td>\n",
       "      <td>156.364217</td>\n",
       "      <td>146.610531</td>\n",
       "      <td>59.273924</td>\n",
       "      <td>350.483603</td>\n",
       "    </tr>\n",
       "    <tr>\n",
       "      <th>Saarbrucken</th>\n",
       "      <td>108.011299</td>\n",
       "      <td>180.449018</td>\n",
       "      <td>129.596700</td>\n",
       "      <td>304.950246</td>\n",
       "      <td>251.591170</td>\n",
       "      <td>220.425606</td>\n",
       "      <td>304.442534</td>\n",
       "      <td>460.874997</td>\n",
       "      <td>418.526761</td>\n",
       "      <td>432.962691</td>\n",
       "      <td>...</td>\n",
       "      <td>275.566954</td>\n",
       "      <td>125.078355</td>\n",
       "      <td>0.000000</td>\n",
       "      <td>255.302507</td>\n",
       "      <td>242.619902</td>\n",
       "      <td>345.562449</td>\n",
       "      <td>214.776089</td>\n",
       "      <td>199.110127</td>\n",
       "      <td>109.793697</td>\n",
       "      <td>442.435887</td>\n",
       "    </tr>\n",
       "    <tr>\n",
       "      <th>Herne</th>\n",
       "      <td>294.986813</td>\n",
       "      <td>116.093692</td>\n",
       "      <td>177.613073</td>\n",
       "      <td>54.638924</td>\n",
       "      <td>7.701146</td>\n",
       "      <td>66.763175</td>\n",
       "      <td>441.310968</td>\n",
       "      <td>406.859104</td>\n",
       "      <td>241.177220</td>\n",
       "      <td>329.779879</td>\n",
       "      <td>...</td>\n",
       "      <td>43.359080</td>\n",
       "      <td>186.637803</td>\n",
       "      <td>255.302507</td>\n",
       "      <td>0.000000</td>\n",
       "      <td>27.218663</td>\n",
       "      <td>100.600378</td>\n",
       "      <td>41.392138</td>\n",
       "      <td>57.705074</td>\n",
       "      <td>245.190721</td>\n",
       "      <td>191.670028</td>\n",
       "    </tr>\n",
       "    <tr>\n",
       "      <th>Mulheim</th>\n",
       "      <td>291.774225</td>\n",
       "      <td>91.105035</td>\n",
       "      <td>178.598316</td>\n",
       "      <td>78.984709</td>\n",
       "      <td>19.518956</td>\n",
       "      <td>39.948238</td>\n",
       "      <td>447.572182</td>\n",
       "      <td>429.298443</td>\n",
       "      <td>268.278672</td>\n",
       "      <td>354.467274</td>\n",
       "      <td>...</td>\n",
       "      <td>70.457732</td>\n",
       "      <td>187.294572</td>\n",
       "      <td>242.619902</td>\n",
       "      <td>27.218663</td>\n",
       "      <td>0.000000</td>\n",
       "      <td>125.163900</td>\n",
       "      <td>31.114584</td>\n",
       "      <td>44.328376</td>\n",
       "      <td>244.202437</td>\n",
       "      <td>212.393370</td>\n",
       "    </tr>\n",
       "    <tr>\n",
       "      <th>Osnabruck</th>\n",
       "      <td>365.709324</td>\n",
       "      <td>216.149499</td>\n",
       "      <td>245.076925</td>\n",
       "      <td>46.208680</td>\n",
       "      <td>107.363029</td>\n",
       "      <td>164.662092</td>\n",
       "      <td>480.574031</td>\n",
       "      <td>374.213713</td>\n",
       "      <td>167.906325</td>\n",
       "      <td>283.537546</td>\n",
       "      <td>...</td>\n",
       "      <td>70.012997</td>\n",
       "      <td>254.077228</td>\n",
       "      <td>345.562449</td>\n",
       "      <td>100.600378</td>\n",
       "      <td>125.163900</td>\n",
       "      <td>0.000000</td>\n",
       "      <td>140.201687</td>\n",
       "      <td>156.245555</td>\n",
       "      <td>312.694257</td>\n",
       "      <td>97.416224</td>\n",
       "    </tr>\n",
       "    <tr>\n",
       "      <th>Solingen</th>\n",
       "      <td>260.743864</td>\n",
       "      <td>81.986036</td>\n",
       "      <td>147.732731</td>\n",
       "      <td>95.071249</td>\n",
       "      <td>36.879023</td>\n",
       "      <td>44.797926</td>\n",
       "      <td>417.617256</td>\n",
       "      <td>413.041645</td>\n",
       "      <td>267.425113</td>\n",
       "      <td>343.084572</td>\n",
       "      <td>...</td>\n",
       "      <td>74.973525</td>\n",
       "      <td>156.364217</td>\n",
       "      <td>214.776089</td>\n",
       "      <td>41.392138</td>\n",
       "      <td>31.114584</td>\n",
       "      <td>140.201687</td>\n",
       "      <td>0.000000</td>\n",
       "      <td>16.328315</td>\n",
       "      <td>213.096391</td>\n",
       "      <td>232.890641</td>\n",
       "    </tr>\n",
       "    <tr>\n",
       "      <th>Leverkusen</th>\n",
       "      <td>248.379100</td>\n",
       "      <td>70.070384</td>\n",
       "      <td>138.287352</td>\n",
       "      <td>111.313047</td>\n",
       "      <td>52.955408</td>\n",
       "      <td>43.698830</td>\n",
       "      <td>409.775149</td>\n",
       "      <td>417.394386</td>\n",
       "      <td>279.364750</td>\n",
       "      <td>350.295141</td>\n",
       "      <td>...</td>\n",
       "      <td>89.979354</td>\n",
       "      <td>146.610531</td>\n",
       "      <td>199.110127</td>\n",
       "      <td>57.705074</td>\n",
       "      <td>44.328376</td>\n",
       "      <td>156.245555</td>\n",
       "      <td>16.328315</td>\n",
       "      <td>0.000000</td>\n",
       "      <td>201.985308</td>\n",
       "      <td>249.211462</td>\n",
       "    </tr>\n",
       "    <tr>\n",
       "      <th>Ludwigshafen</th>\n",
       "      <td>53.462310</td>\n",
       "      <td>220.953310</td>\n",
       "      <td>68.427270</td>\n",
       "      <td>281.889111</td>\n",
       "      <td>244.730495</td>\n",
       "      <td>239.321113</td>\n",
       "      <td>218.510015</td>\n",
       "      <td>353.549755</td>\n",
       "      <td>342.836445</td>\n",
       "      <td>334.475055</td>\n",
       "      <td>...</td>\n",
       "      <td>247.795517</td>\n",
       "      <td>59.273924</td>\n",
       "      <td>109.793697</td>\n",
       "      <td>245.190721</td>\n",
       "      <td>244.202437</td>\n",
       "      <td>312.694257</td>\n",
       "      <td>213.096391</td>\n",
       "      <td>201.985308</td>\n",
       "      <td>0.000000</td>\n",
       "      <td>408.617158</td>\n",
       "    </tr>\n",
       "    <tr>\n",
       "      <th>Oldenburg</th>\n",
       "      <td>461.877417</td>\n",
       "      <td>302.230890</td>\n",
       "      <td>341.570905</td>\n",
       "      <td>138.333766</td>\n",
       "      <td>197.289266</td>\n",
       "      <td>249.128147</td>\n",
       "      <td>565.316698</td>\n",
       "      <td>413.759045</td>\n",
       "      <td>183.708710</td>\n",
       "      <td>316.049388</td>\n",
       "      <td>...</td>\n",
       "      <td>167.032960</td>\n",
       "      <td>350.483603</td>\n",
       "      <td>442.435887</td>\n",
       "      <td>191.670028</td>\n",
       "      <td>212.393370</td>\n",
       "      <td>97.416224</td>\n",
       "      <td>232.890641</td>\n",
       "      <td>249.211462</td>\n",
       "      <td>408.617158</td>\n",
       "      <td>0.000000</td>\n",
       "    </tr>\n",
       "  </tbody>\n",
       "</table>\n",
       "<p>30 rows × 30 columns</p>\n",
       "</div>"
      ],
      "text/plain": [
       "name              Karlsruhe      Aachen   Wiesbaden     Munster  \\\n",
       "name                                                              \n",
       "Karlsruhe          0.000000  257.496954  120.746241  333.881776   \n",
       "Aachen           257.496954    0.000000  170.334825  169.940818   \n",
       "Wiesbaden        120.746241  170.334825    0.000000  213.480091   \n",
       "Munster          333.881776  169.940818  213.480091    0.000000   \n",
       "Gelsenkirchen    293.950928  108.963267  177.595586   61.221535   \n",
       "Monchengladbach  282.729918   53.153578  178.641919  118.610777   \n",
       "Augsburg         196.677841  438.504376  272.255506  463.512842   \n",
       "Chemnitz         383.067179  481.383269  343.292605  389.606388   \n",
       "Brunswick        393.152972  349.161265  291.144402  200.938709   \n",
       "Halle            374.873445  418.352842  305.662471  304.587885   \n",
       "Krefeld          290.909238   70.154472  182.802328  101.972783   \n",
       "Kiel             603.704881  480.243735  489.118317  311.354902   \n",
       "Magdeburg        416.173874  412.998770  329.155346  275.052463   \n",
       "Oberhausen       295.884044   94.714960  182.334112   75.704152   \n",
       "Freiburg         119.441038  334.529733  234.083753  441.884638   \n",
       "Lubeck           564.073926  464.669486  453.488221  294.903218   \n",
       "Erfurt           290.746565  348.464765  222.811004  260.308844   \n",
       "Rostock          621.547557  550.644383  518.912029  382.693451   \n",
       "Hagen            272.029044  116.943547  153.456015   66.570844   \n",
       "Kassel           269.342929  245.462204  163.782629  147.134210   \n",
       "Hamm             300.052112  155.872106  179.450740   34.571763   \n",
       "Mainz            111.680732  176.498125    9.154226  222.627490   \n",
       "Saarbrucken      108.011299  180.449018  129.596700  304.950246   \n",
       "Herne            294.986813  116.093692  177.613073   54.638924   \n",
       "Mulheim          291.774225   91.105035  178.598316   78.984709   \n",
       "Osnabruck        365.709324  216.149499  245.076925   46.208680   \n",
       "Solingen         260.743864   81.986036  147.732731   95.071249   \n",
       "Leverkusen       248.379100   70.070384  138.287352  111.313047   \n",
       "Ludwigshafen      53.462310  220.953310   68.427270  281.889111   \n",
       "Oldenburg        461.877417  302.230890  341.570905  138.333766   \n",
       "\n",
       "name             Gelsenkirchen  Monchengladbach    Augsburg    Chemnitz  \\\n",
       "name                                                                      \n",
       "Karlsruhe           293.950928       282.729918  196.677841  383.067179   \n",
       "Aachen              108.963267        53.153578  438.504376  481.383269   \n",
       "Wiesbaden           177.595586       178.641919  272.255506  343.292605   \n",
       "Munster              61.221535       118.610777  463.512842  389.606388   \n",
       "Gelsenkirchen         0.000000        59.158873  443.044904  413.221150   \n",
       "Monchengladbach      59.158873         0.000000  450.869693  457.839565   \n",
       "Augsburg            443.044904       450.869693    0.000000  311.431405   \n",
       "Chemnitz            413.221150       457.839565  311.431405    0.000000   \n",
       "Brunswick           248.853559       306.549145  435.768657  231.521857   \n",
       "Halle               336.778278       387.207196  355.424422   98.691507   \n",
       "Krefeld              43.800717        17.073570  454.342735  449.696150   \n",
       "Kiel                372.462027       427.585305  665.233455  432.185998   \n",
       "Magdeburg           318.480843       374.273799  422.565408  170.508810   \n",
       "Oberhausen           17.925146        42.925485  450.896680  429.830650   \n",
       "Freiburg            395.118673       371.667565  229.789197  484.710230   \n",
       "Lubeck              355.707366       413.445032  613.199786  371.629553   \n",
       "Erfurt              279.703855       323.740295  292.690195  134.112666   \n",
       "Rostock             442.199233       500.964103  643.029499  367.009686   \n",
       "Hagen                28.893802        74.981174  415.710611  387.049859   \n",
       "Kassel              166.221963       214.003313  344.480177  247.151105   \n",
       "Hamm                 51.025246       109.283392  429.556561  369.403089   \n",
       "Mainz               186.547339       186.508843  264.606746  343.777452   \n",
       "Saarbrucken         251.591170       220.425606  304.442534  460.874997   \n",
       "Herne                 7.701146        66.763175  441.310968  406.859104   \n",
       "Mulheim              19.518956        39.948238  447.572182  429.298443   \n",
       "Osnabruck           107.363029       164.662092  480.574031  374.213713   \n",
       "Solingen             36.879023        44.797926  417.617256  413.041645   \n",
       "Leverkusen           52.955408        43.698830  409.775149  417.394386   \n",
       "Ludwigshafen        244.730495       239.321113  218.510015  353.549755   \n",
       "Oldenburg           197.289266       249.128147  565.316698  413.759045   \n",
       "\n",
       "name              Brunswick       Halle  ...        Hamm       Mainz  \\\n",
       "name                                     ...                           \n",
       "Karlsruhe        393.152972  374.873445  ...  300.052112  111.680732   \n",
       "Aachen           349.161265  418.352842  ...  155.872106  176.498125   \n",
       "Wiesbaden        291.144402  305.662471  ...  179.450740    9.154226   \n",
       "Munster          200.938709  304.587885  ...   34.571763  222.627490   \n",
       "Gelsenkirchen    248.853559  336.778278  ...   51.025246  186.547339   \n",
       "Monchengladbach  306.549145  387.207196  ...  109.283392  186.508843   \n",
       "Augsburg         435.768657  355.424422  ...  429.556561  264.606746   \n",
       "Chemnitz         231.521857   98.691507  ...  369.403089  343.777452   \n",
       "Brunswick          0.000000  133.030460  ...  197.830817  297.586599   \n",
       "Halle            133.030460    0.000000  ...  289.132321  308.684996   \n",
       "Krefeld          292.463972  376.737454  ...   94.683547  191.055865   \n",
       "Kiel             229.624391  339.405901  ...  333.478336  497.207416   \n",
       "Magdeburg         77.473866   76.028507  ...  267.835679  334.038585   \n",
       "Oberhausen       266.656960  354.270490  ...   68.867383  191.066630   \n",
       "Freiburg         512.566754  488.159454  ...  409.326446  225.534938   \n",
       "Lubeck           178.343627  280.106038  ...  311.712491  461.084635   \n",
       "Erfurt           146.893320   84.796916  ...  237.473552  225.278199   \n",
       "Rostock          228.734136  290.599847  ...  395.256743  525.664452   \n",
       "Hagen            232.905114  313.184698  ...   40.877627  162.548306   \n",
       "Kassel           127.363481  173.496164  ...  122.996134  170.298265   \n",
       "Hamm             197.830817  289.132321  ...    0.000000  188.583258   \n",
       "Mainz            297.586599  308.684996  ...  188.583258    0.000000   \n",
       "Saarbrucken      418.526761  432.962691  ...  275.566954  125.078355   \n",
       "Herne            241.177220  329.779879  ...   43.359080  186.637803   \n",
       "Mulheim          268.278672  354.467274  ...   70.457732  187.294572   \n",
       "Osnabruck        167.906325  283.537546  ...   70.012997  254.077228   \n",
       "Solingen         267.425113  343.084572  ...   74.973525  156.364217   \n",
       "Leverkusen       279.364750  350.295141  ...   89.979354  146.610531   \n",
       "Ludwigshafen     342.836445  334.475055  ...  247.795517   59.273924   \n",
       "Oldenburg        183.708710  316.049388  ...  167.032960  350.483603   \n",
       "\n",
       "name             Saarbrucken       Herne     Mulheim   Osnabruck    Solingen  \\\n",
       "name                                                                           \n",
       "Karlsruhe         108.011299  294.986813  291.774225  365.709324  260.743864   \n",
       "Aachen            180.449018  116.093692   91.105035  216.149499   81.986036   \n",
       "Wiesbaden         129.596700  177.613073  178.598316  245.076925  147.732731   \n",
       "Munster           304.950246   54.638924   78.984709   46.208680   95.071249   \n",
       "Gelsenkirchen     251.591170    7.701146   19.518956  107.363029   36.879023   \n",
       "Monchengladbach   220.425606   66.763175   39.948238  164.662092   44.797926   \n",
       "Augsburg          304.442534  441.310968  447.572182  480.574031  417.617256   \n",
       "Chemnitz          460.874997  406.859104  429.298443  374.213713  413.041645   \n",
       "Brunswick         418.526761  241.177220  268.278672  167.906325  267.425113   \n",
       "Halle             432.962691  329.779879  354.467274  283.537546  343.084572   \n",
       "Krefeld           233.294833   51.500267   24.281771  147.903953   39.320984   \n",
       "Kiel              604.380203  365.993708  389.282576  265.663879  405.854760   \n",
       "Magdeburg         458.751387  310.936701  337.545453  244.604023  332.735712   \n",
       "Oberhausen        247.067794   25.518938    4.450275  121.811923   35.146953   \n",
       "Freiburg          154.404328  397.525487  389.204244  477.397117  359.358441   \n",
       "Lubeck            574.001582  348.644864  373.883483  248.783263  386.294743   \n",
       "Erfurt            348.872838  273.521048  295.441335  251.299886  278.942889   \n",
       "Rostock           644.557534  434.828966  461.046178  337.370333  470.201699   \n",
       "Hagen             238.385840   25.684504   42.285522  109.115025   35.013406   \n",
       "Kassel            291.543549  159.750695  182.831597  145.390953  169.672363   \n",
       "Hamm              275.566954   43.359080   70.457732   70.012997   74.973525   \n",
       "Mainz             125.078355  186.637803  187.294572  254.077228  156.364217   \n",
       "Saarbrucken         0.000000  255.302507  242.619902  345.562449  214.776089   \n",
       "Herne             255.302507    0.000000   27.218663  100.600378   41.392138   \n",
       "Mulheim           242.619902   27.218663    0.000000  125.163900   31.114584   \n",
       "Osnabruck         345.562449  100.600378  125.163900    0.000000  140.201687   \n",
       "Solingen          214.776089   41.392138   31.114584  140.201687    0.000000   \n",
       "Leverkusen        199.110127   57.705074   44.328376  156.245555   16.328315   \n",
       "Ludwigshafen      109.793697  245.190721  244.202437  312.694257  213.096391   \n",
       "Oldenburg         442.435887  191.670028  212.393370   97.416224  232.890641   \n",
       "\n",
       "name             Leverkusen  Ludwigshafen   Oldenburg  \n",
       "name                                                   \n",
       "Karlsruhe        248.379100     53.462310  461.877417  \n",
       "Aachen            70.070384    220.953310  302.230890  \n",
       "Wiesbaden        138.287352     68.427270  341.570905  \n",
       "Munster          111.313047    281.889111  138.333766  \n",
       "Gelsenkirchen     52.955408    244.730495  197.289266  \n",
       "Monchengladbach   43.698830    239.321113  249.128147  \n",
       "Augsburg         409.775149    218.510015  565.316698  \n",
       "Chemnitz         417.394386    353.549755  413.759045  \n",
       "Brunswick        279.364750    342.836445  183.708710  \n",
       "Halle            350.295141    334.475055  316.049388  \n",
       "Krefeld           44.579273    245.749494  232.085292  \n",
       "Kiel             421.846198    550.756191  181.218055  \n",
       "Magdeburg        342.984996    370.267017  257.197982  \n",
       "Oberhausen        48.692096    248.141887  208.374213  \n",
       "Freiburg         344.882304    171.282820  574.562070  \n",
       "Lubeck           401.648052    511.941022  181.207488  \n",
       "Erfurt           283.526193    249.685961  308.422242  \n",
       "Rostock          484.804741    571.545114  277.808620  \n",
       "Hagen             49.262421    221.466750  204.574500  \n",
       "Kassel           176.870468    217.616789  221.332322  \n",
       "Hamm              89.979354    247.795517  167.032960  \n",
       "Mainz            146.610531     59.273924  350.483603  \n",
       "Saarbrucken      199.110127    109.793697  442.435887  \n",
       "Herne             57.705074    245.190721  191.670028  \n",
       "Mulheim           44.328376    244.202437  212.393370  \n",
       "Osnabruck        156.245555    312.694257   97.416224  \n",
       "Solingen          16.328315    213.096391  232.890641  \n",
       "Leverkusen         0.000000    201.985308  249.211462  \n",
       "Ludwigshafen     201.985308      0.000000  408.617158  \n",
       "Oldenburg        249.211462    408.617158    0.000000  \n",
       "\n",
       "[30 rows x 30 columns]"
      ]
     },
     "execution_count": 43,
     "metadata": {},
     "output_type": "execute_result"
    }
   ],
   "source": [
    "\n",
    "#Calculate the distance between the cities using geopy.distance\n",
    "distances = []\n",
    "for i in range(len(german_cities_df)):\n",
    "    for j in range(len(german_cities_df)):\n",
    "        city1 = (german_cities_df.iloc[i]['lat'], german_cities_df.iloc[i]['long'])\n",
    "        city2 = (german_cities_df.iloc[j]['lat'], german_cities_df.iloc[j]['long'])\n",
    "        distance = geo.distance(city1, city2).km\n",
    "        distances.append(distance)\n",
    "        \n",
    "# Reshape the distances list to match the shape of the distance matrix\n",
    "num_cities = len(german_cities_df)\n",
    "distance_matrix = pd.DataFrame(\n",
    "    data=np.array(distances).reshape(num_cities, num_cities),\n",
    "    index=german_cities_df['name'],\n",
    "    columns=german_cities_df['name'],\n",
    ")\n",
    "distance_matrix"
   ]
  },
  {
   "cell_type": "code",
   "execution_count": 44,
   "metadata": {},
   "outputs": [
    {
     "data": {
      "application/vnd.plotly.v1+json": {
       "config": {
        "plotlyServerURL": "https://plot.ly"
       },
       "data": [
        {
         "geo": "geo",
         "hovertemplate": "name=%{text}<br>lat=%{lat}<br>long=%{lon}<extra></extra>",
         "lat": [
          49,
          50.77,
          50.08,
          51.96,
          51.51,
          51.2,
          48.36,
          50.83,
          52.27,
          51.48,
          51.33,
          54.32,
          52.13,
          51.47,
          47.99,
          53.87,
          50.99,
          54.09,
          51.37,
          51.32,
          51.67,
          50,
          49.25,
          51.54,
          51.43,
          52.28,
          51.18,
          51.04,
          49.48,
          53.15
         ],
         "legendgroup": "",
         "lon": [
          8.4,
          6.09,
          8.23,
          7.62,
          7.11,
          6.42,
          10.89,
          12.92,
          10.51,
          11.96,
          6.55,
          10.12,
          11.62,
          6.86,
          7.85,
          10.66,
          11.03,
          12.1,
          7.46,
          9.48,
          7.8,
          8.26,
          6.97,
          7.21,
          6.86,
          8.05,
          7.06,
          6.99,
          8.44,
          8.21
         ],
         "marker": {
          "color": "#636efa",
          "symbol": "circle"
         },
         "mode": "markers+text",
         "name": "",
         "showlegend": false,
         "text": [
          "Karlsruhe",
          "Aachen",
          "Wiesbaden",
          "Munster",
          "Gelsenkirchen",
          "Monchengladbach",
          "Augsburg",
          "Chemnitz",
          "Brunswick",
          "Halle",
          "Krefeld",
          "Kiel",
          "Magdeburg",
          "Oberhausen",
          "Freiburg",
          "Lubeck",
          "Erfurt",
          "Rostock",
          "Hagen",
          "Kassel",
          "Hamm",
          "Mainz",
          "Saarbrucken",
          "Herne",
          "Mulheim",
          "Osnabruck",
          "Solingen",
          "Leverkusen",
          "Ludwigshafen",
          "Oldenburg"
         ],
         "type": "scattergeo"
        }
       ],
       "layout": {
        "geo": {
         "center": {},
         "domain": {
          "x": [
           0,
           1
          ],
          "y": [
           0,
           1
          ]
         },
         "scope": "europe"
        },
        "legend": {
         "tracegroupgap": 0
        },
        "margin": {
         "t": 60
        },
        "template": {
         "data": {
          "bar": [
           {
            "error_x": {
             "color": "#2a3f5f"
            },
            "error_y": {
             "color": "#2a3f5f"
            },
            "marker": {
             "line": {
              "color": "#E5ECF6",
              "width": 0.5
             },
             "pattern": {
              "fillmode": "overlay",
              "size": 10,
              "solidity": 0.2
             }
            },
            "type": "bar"
           }
          ],
          "barpolar": [
           {
            "marker": {
             "line": {
              "color": "#E5ECF6",
              "width": 0.5
             },
             "pattern": {
              "fillmode": "overlay",
              "size": 10,
              "solidity": 0.2
             }
            },
            "type": "barpolar"
           }
          ],
          "carpet": [
           {
            "aaxis": {
             "endlinecolor": "#2a3f5f",
             "gridcolor": "white",
             "linecolor": "white",
             "minorgridcolor": "white",
             "startlinecolor": "#2a3f5f"
            },
            "baxis": {
             "endlinecolor": "#2a3f5f",
             "gridcolor": "white",
             "linecolor": "white",
             "minorgridcolor": "white",
             "startlinecolor": "#2a3f5f"
            },
            "type": "carpet"
           }
          ],
          "choropleth": [
           {
            "colorbar": {
             "outlinewidth": 0,
             "ticks": ""
            },
            "type": "choropleth"
           }
          ],
          "contour": [
           {
            "colorbar": {
             "outlinewidth": 0,
             "ticks": ""
            },
            "colorscale": [
             [
              0,
              "#0d0887"
             ],
             [
              0.1111111111111111,
              "#46039f"
             ],
             [
              0.2222222222222222,
              "#7201a8"
             ],
             [
              0.3333333333333333,
              "#9c179e"
             ],
             [
              0.4444444444444444,
              "#bd3786"
             ],
             [
              0.5555555555555556,
              "#d8576b"
             ],
             [
              0.6666666666666666,
              "#ed7953"
             ],
             [
              0.7777777777777778,
              "#fb9f3a"
             ],
             [
              0.8888888888888888,
              "#fdca26"
             ],
             [
              1,
              "#f0f921"
             ]
            ],
            "type": "contour"
           }
          ],
          "contourcarpet": [
           {
            "colorbar": {
             "outlinewidth": 0,
             "ticks": ""
            },
            "type": "contourcarpet"
           }
          ],
          "heatmap": [
           {
            "colorbar": {
             "outlinewidth": 0,
             "ticks": ""
            },
            "colorscale": [
             [
              0,
              "#0d0887"
             ],
             [
              0.1111111111111111,
              "#46039f"
             ],
             [
              0.2222222222222222,
              "#7201a8"
             ],
             [
              0.3333333333333333,
              "#9c179e"
             ],
             [
              0.4444444444444444,
              "#bd3786"
             ],
             [
              0.5555555555555556,
              "#d8576b"
             ],
             [
              0.6666666666666666,
              "#ed7953"
             ],
             [
              0.7777777777777778,
              "#fb9f3a"
             ],
             [
              0.8888888888888888,
              "#fdca26"
             ],
             [
              1,
              "#f0f921"
             ]
            ],
            "type": "heatmap"
           }
          ],
          "heatmapgl": [
           {
            "colorbar": {
             "outlinewidth": 0,
             "ticks": ""
            },
            "colorscale": [
             [
              0,
              "#0d0887"
             ],
             [
              0.1111111111111111,
              "#46039f"
             ],
             [
              0.2222222222222222,
              "#7201a8"
             ],
             [
              0.3333333333333333,
              "#9c179e"
             ],
             [
              0.4444444444444444,
              "#bd3786"
             ],
             [
              0.5555555555555556,
              "#d8576b"
             ],
             [
              0.6666666666666666,
              "#ed7953"
             ],
             [
              0.7777777777777778,
              "#fb9f3a"
             ],
             [
              0.8888888888888888,
              "#fdca26"
             ],
             [
              1,
              "#f0f921"
             ]
            ],
            "type": "heatmapgl"
           }
          ],
          "histogram": [
           {
            "marker": {
             "pattern": {
              "fillmode": "overlay",
              "size": 10,
              "solidity": 0.2
             }
            },
            "type": "histogram"
           }
          ],
          "histogram2d": [
           {
            "colorbar": {
             "outlinewidth": 0,
             "ticks": ""
            },
            "colorscale": [
             [
              0,
              "#0d0887"
             ],
             [
              0.1111111111111111,
              "#46039f"
             ],
             [
              0.2222222222222222,
              "#7201a8"
             ],
             [
              0.3333333333333333,
              "#9c179e"
             ],
             [
              0.4444444444444444,
              "#bd3786"
             ],
             [
              0.5555555555555556,
              "#d8576b"
             ],
             [
              0.6666666666666666,
              "#ed7953"
             ],
             [
              0.7777777777777778,
              "#fb9f3a"
             ],
             [
              0.8888888888888888,
              "#fdca26"
             ],
             [
              1,
              "#f0f921"
             ]
            ],
            "type": "histogram2d"
           }
          ],
          "histogram2dcontour": [
           {
            "colorbar": {
             "outlinewidth": 0,
             "ticks": ""
            },
            "colorscale": [
             [
              0,
              "#0d0887"
             ],
             [
              0.1111111111111111,
              "#46039f"
             ],
             [
              0.2222222222222222,
              "#7201a8"
             ],
             [
              0.3333333333333333,
              "#9c179e"
             ],
             [
              0.4444444444444444,
              "#bd3786"
             ],
             [
              0.5555555555555556,
              "#d8576b"
             ],
             [
              0.6666666666666666,
              "#ed7953"
             ],
             [
              0.7777777777777778,
              "#fb9f3a"
             ],
             [
              0.8888888888888888,
              "#fdca26"
             ],
             [
              1,
              "#f0f921"
             ]
            ],
            "type": "histogram2dcontour"
           }
          ],
          "mesh3d": [
           {
            "colorbar": {
             "outlinewidth": 0,
             "ticks": ""
            },
            "type": "mesh3d"
           }
          ],
          "parcoords": [
           {
            "line": {
             "colorbar": {
              "outlinewidth": 0,
              "ticks": ""
             }
            },
            "type": "parcoords"
           }
          ],
          "pie": [
           {
            "automargin": true,
            "type": "pie"
           }
          ],
          "scatter": [
           {
            "fillpattern": {
             "fillmode": "overlay",
             "size": 10,
             "solidity": 0.2
            },
            "type": "scatter"
           }
          ],
          "scatter3d": [
           {
            "line": {
             "colorbar": {
              "outlinewidth": 0,
              "ticks": ""
             }
            },
            "marker": {
             "colorbar": {
              "outlinewidth": 0,
              "ticks": ""
             }
            },
            "type": "scatter3d"
           }
          ],
          "scattercarpet": [
           {
            "marker": {
             "colorbar": {
              "outlinewidth": 0,
              "ticks": ""
             }
            },
            "type": "scattercarpet"
           }
          ],
          "scattergeo": [
           {
            "marker": {
             "colorbar": {
              "outlinewidth": 0,
              "ticks": ""
             }
            },
            "type": "scattergeo"
           }
          ],
          "scattergl": [
           {
            "marker": {
             "colorbar": {
              "outlinewidth": 0,
              "ticks": ""
             }
            },
            "type": "scattergl"
           }
          ],
          "scattermapbox": [
           {
            "marker": {
             "colorbar": {
              "outlinewidth": 0,
              "ticks": ""
             }
            },
            "type": "scattermapbox"
           }
          ],
          "scatterpolar": [
           {
            "marker": {
             "colorbar": {
              "outlinewidth": 0,
              "ticks": ""
             }
            },
            "type": "scatterpolar"
           }
          ],
          "scatterpolargl": [
           {
            "marker": {
             "colorbar": {
              "outlinewidth": 0,
              "ticks": ""
             }
            },
            "type": "scatterpolargl"
           }
          ],
          "scatterternary": [
           {
            "marker": {
             "colorbar": {
              "outlinewidth": 0,
              "ticks": ""
             }
            },
            "type": "scatterternary"
           }
          ],
          "surface": [
           {
            "colorbar": {
             "outlinewidth": 0,
             "ticks": ""
            },
            "colorscale": [
             [
              0,
              "#0d0887"
             ],
             [
              0.1111111111111111,
              "#46039f"
             ],
             [
              0.2222222222222222,
              "#7201a8"
             ],
             [
              0.3333333333333333,
              "#9c179e"
             ],
             [
              0.4444444444444444,
              "#bd3786"
             ],
             [
              0.5555555555555556,
              "#d8576b"
             ],
             [
              0.6666666666666666,
              "#ed7953"
             ],
             [
              0.7777777777777778,
              "#fb9f3a"
             ],
             [
              0.8888888888888888,
              "#fdca26"
             ],
             [
              1,
              "#f0f921"
             ]
            ],
            "type": "surface"
           }
          ],
          "table": [
           {
            "cells": {
             "fill": {
              "color": "#EBF0F8"
             },
             "line": {
              "color": "white"
             }
            },
            "header": {
             "fill": {
              "color": "#C8D4E3"
             },
             "line": {
              "color": "white"
             }
            },
            "type": "table"
           }
          ]
         },
         "layout": {
          "annotationdefaults": {
           "arrowcolor": "#2a3f5f",
           "arrowhead": 0,
           "arrowwidth": 1
          },
          "autotypenumbers": "strict",
          "coloraxis": {
           "colorbar": {
            "outlinewidth": 0,
            "ticks": ""
           }
          },
          "colorscale": {
           "diverging": [
            [
             0,
             "#8e0152"
            ],
            [
             0.1,
             "#c51b7d"
            ],
            [
             0.2,
             "#de77ae"
            ],
            [
             0.3,
             "#f1b6da"
            ],
            [
             0.4,
             "#fde0ef"
            ],
            [
             0.5,
             "#f7f7f7"
            ],
            [
             0.6,
             "#e6f5d0"
            ],
            [
             0.7,
             "#b8e186"
            ],
            [
             0.8,
             "#7fbc41"
            ],
            [
             0.9,
             "#4d9221"
            ],
            [
             1,
             "#276419"
            ]
           ],
           "sequential": [
            [
             0,
             "#0d0887"
            ],
            [
             0.1111111111111111,
             "#46039f"
            ],
            [
             0.2222222222222222,
             "#7201a8"
            ],
            [
             0.3333333333333333,
             "#9c179e"
            ],
            [
             0.4444444444444444,
             "#bd3786"
            ],
            [
             0.5555555555555556,
             "#d8576b"
            ],
            [
             0.6666666666666666,
             "#ed7953"
            ],
            [
             0.7777777777777778,
             "#fb9f3a"
            ],
            [
             0.8888888888888888,
             "#fdca26"
            ],
            [
             1,
             "#f0f921"
            ]
           ],
           "sequentialminus": [
            [
             0,
             "#0d0887"
            ],
            [
             0.1111111111111111,
             "#46039f"
            ],
            [
             0.2222222222222222,
             "#7201a8"
            ],
            [
             0.3333333333333333,
             "#9c179e"
            ],
            [
             0.4444444444444444,
             "#bd3786"
            ],
            [
             0.5555555555555556,
             "#d8576b"
            ],
            [
             0.6666666666666666,
             "#ed7953"
            ],
            [
             0.7777777777777778,
             "#fb9f3a"
            ],
            [
             0.8888888888888888,
             "#fdca26"
            ],
            [
             1,
             "#f0f921"
            ]
           ]
          },
          "colorway": [
           "#636efa",
           "#EF553B",
           "#00cc96",
           "#ab63fa",
           "#FFA15A",
           "#19d3f3",
           "#FF6692",
           "#B6E880",
           "#FF97FF",
           "#FECB52"
          ],
          "font": {
           "color": "#2a3f5f"
          },
          "geo": {
           "bgcolor": "white",
           "lakecolor": "white",
           "landcolor": "#E5ECF6",
           "showlakes": true,
           "showland": true,
           "subunitcolor": "white"
          },
          "hoverlabel": {
           "align": "left"
          },
          "hovermode": "closest",
          "mapbox": {
           "style": "light"
          },
          "paper_bgcolor": "white",
          "plot_bgcolor": "#E5ECF6",
          "polar": {
           "angularaxis": {
            "gridcolor": "white",
            "linecolor": "white",
            "ticks": ""
           },
           "bgcolor": "#E5ECF6",
           "radialaxis": {
            "gridcolor": "white",
            "linecolor": "white",
            "ticks": ""
           }
          },
          "scene": {
           "xaxis": {
            "backgroundcolor": "#E5ECF6",
            "gridcolor": "white",
            "gridwidth": 2,
            "linecolor": "white",
            "showbackground": true,
            "ticks": "",
            "zerolinecolor": "white"
           },
           "yaxis": {
            "backgroundcolor": "#E5ECF6",
            "gridcolor": "white",
            "gridwidth": 2,
            "linecolor": "white",
            "showbackground": true,
            "ticks": "",
            "zerolinecolor": "white"
           },
           "zaxis": {
            "backgroundcolor": "#E5ECF6",
            "gridcolor": "white",
            "gridwidth": 2,
            "linecolor": "white",
            "showbackground": true,
            "ticks": "",
            "zerolinecolor": "white"
           }
          },
          "shapedefaults": {
           "line": {
            "color": "#2a3f5f"
           }
          },
          "ternary": {
           "aaxis": {
            "gridcolor": "white",
            "linecolor": "white",
            "ticks": ""
           },
           "baxis": {
            "gridcolor": "white",
            "linecolor": "white",
            "ticks": ""
           },
           "bgcolor": "#E5ECF6",
           "caxis": {
            "gridcolor": "white",
            "linecolor": "white",
            "ticks": ""
           }
          },
          "title": {
           "x": 0.05
          },
          "xaxis": {
           "automargin": true,
           "gridcolor": "white",
           "linecolor": "white",
           "ticks": "",
           "title": {
            "standoff": 15
           },
           "zerolinecolor": "white",
           "zerolinewidth": 2
          },
          "yaxis": {
           "automargin": true,
           "gridcolor": "white",
           "linecolor": "white",
           "ticks": "",
           "title": {
            "standoff": 15
           },
           "zerolinecolor": "white",
           "zerolinewidth": 2
          }
         }
        }
       }
      }
     },
     "metadata": {},
     "output_type": "display_data"
    }
   ],
   "source": [
    "\n",
    "# Perform PCoA\n",
    "pcoa_results = pcoa.pcoa(distance_matrix)\n",
    "\n",
    "# Plot PCoA results\n",
    "pcoa_df = pd.DataFrame(pcoa_results, columns=['PC1', 'PC2'])\n",
    "\n",
    "px.scatter(pcoa_df, x='PC1', y='PC2', title='PCoA of German Cities')\n",
    "\n",
    "# Plot map of Germany with cities\n",
    "fig = px.scatter_geo(german_cities_df, lat='lat', lon='long', text='name')\n",
    "fig.update_layout(geo_scope=\"europe\")\n",
    "fig"
   ]
  }
 ],
 "metadata": {
  "kernelspec": {
   "display_name": "class",
   "language": "python",
   "name": "python3"
  },
  "language_info": {
   "codemirror_mode": {
    "name": "ipython",
    "version": 3
   },
   "file_extension": ".py",
   "mimetype": "text/x-python",
   "name": "python",
   "nbconvert_exporter": "python",
   "pygments_lexer": "ipython3",
   "version": "3.11.5"
  },
  "orig_nbformat": 4
 },
 "nbformat": 4,
 "nbformat_minor": 2
}

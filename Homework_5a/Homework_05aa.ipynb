{
 "cells": [
  {
   "cell_type": "code",
   "execution_count": 1,
   "metadata": {},
   "outputs": [
    {
     "data": {
      "text/markdown": [
       "# Population Genetics Dashboard"
      ],
      "text/plain": [
       "<IPython.core.display.Markdown object>"
      ]
     },
     "metadata": {},
     "output_type": "display_data"
    },
    {
     "name": "stderr",
     "output_type": "stream",
     "text": [
      "2024-04-21 16:50:16.225 \n",
      "  \u001b[33m\u001b[1mWarning:\u001b[0m to view this Streamlit app on a browser, run it with the following\n",
      "  command:\n",
      "\n",
      "    streamlit run /Users/camellia/anaconda3/lib/python3.11/site-packages/ipykernel_launcher.py [ARGUMENTS]\n"
     ]
    },
    {
     "data": {
      "text/markdown": [
       "## Allele Frequency Simulation"
      ],
      "text/plain": [
       "<IPython.core.display.Markdown object>"
      ]
     },
     "metadata": {},
     "output_type": "display_data"
    },
    {
     "data": {
      "text/markdown": [
       "## Histogram of Final Allele Frequencies"
      ],
      "text/plain": [
       "<IPython.core.display.Markdown object>"
      ]
     },
     "metadata": {},
     "output_type": "display_data"
    },
    {
     "data": {
      "text/plain": [
       "DeltaGenerator()"
      ]
     },
     "execution_count": 1,
     "metadata": {},
     "output_type": "execute_result"
    }
   ],
   "source": [
    "import numpy as np\n",
    "import plotly.graph_objects as go\n",
    "import streamlit as st\n",
    "from streamlit_jupyter import StreamlitPatcher, tqdm\n",
    "StreamlitPatcher().jupyter()\n",
    "\n",
    "# Define function for simulating population\n",
    "def simulate_population(init_A, init_a, f_AA, f_Aa, f_aa, population_size, generations, sim):\n",
    "    allele_freq_results = []\n",
    "    \n",
    "    for _ in range(sim):\n",
    "        allele_freq = [init_A]\n",
    "        \n",
    "        #simulate for a number of generations\n",
    "        for _ in range(generations):\n",
    "\n",
    "            #set up the allele frequencies\n",
    "            f_A = allele_freq[-1]\n",
    "            f_a = 1 - f_A\n",
    "\n",
    "            # Calculate expected genotype frequencies\n",
    "            expected_f_AA = f_AA * f_A**2\n",
    "            expected_f_Aa = 2 * f_A * f_a * f_Aa\n",
    "            expected_f_aa = f_aa * f_a**2\n",
    "\n",
    "            # Simulate genotype frequencies with binomial distribution\n",
    "            f_AA_new = np.random.binomial(population_size, expected_f_AA) \n",
    "            f_Aa_new = np.random.binomial(population_size, expected_f_Aa) \n",
    "            f_aa_new = np.random.binomial(population_size, expected_f_aa) \n",
    "\n",
    "            # Normalize the genotype frequencies\n",
    "            total_freq = f_AA_new + f_Aa_new + f_aa_new\n",
    "            f_AA_new /= total_freq\n",
    "            f_Aa_new /= total_freq\n",
    "            f_aa_new /= total_freq\n",
    "\n",
    "            # Update allele frequency for the next generation\n",
    "            f_A_new = f_AA_new + 0.5 * f_Aa_new\n",
    "\n",
    "            #add the new frequncy to the frequency list\n",
    "            allele_freq.append(f_A_new)\n",
    "\n",
    "        #add to the new result\n",
    "        allele_freq_results.append(allele_freq)\n",
    "\n",
    "    return allele_freq_results\n",
    "\n",
    "# Streamlit app\n",
    "st.title('Population Genetics Dashboard')\n",
    "\n",
    "# Sidebar inputs\n",
    "st.sidebar.header('Simulation Parameters')\n",
    "\n",
    "init_A = st.sidebar.slider('Initial frequency of allele A', 0.0, 1.0, 0.5)\n",
    "init_a = 1 - init_A\n",
    "f_AA = st.sidebar.number_input('Fitness of AA genotype', value=1.0)\n",
    "f_Aa = st.sidebar.number_input('Fitness of Aa genotype', value=1.0)\n",
    "f_aa = st.sidebar.number_input('Fitness of aa genotype', value=1.0)\n",
    "pop = st.sidebar.number_input('Population Size', value=1000)\n",
    "gen = st.sidebar.number_input('Number of Generations', value=100)\n",
    "sim = st.sidebar.number_input('Number of Simulations', value=100)\n",
    "\n",
    "# Run simulations\n",
    "allele_freq_results = simulate_population(init_A, init_a, f_AA, f_Aa, f_aa, pop, gen, sim)\n",
    "\n",
    "# Display graphs in main page\n",
    "st.header('Allele Frequency Simulation')\n",
    "fig1 = go.Figure()\n",
    "\n",
    "for i, allele_freq in enumerate(allele_freq_results):\n",
    "    fig1.add_trace(go.Scatter(x=list(range(gen + 1)), y=allele_freq, mode='lines', name=f'Simulation {i + 1}'))\n",
    "\n",
    "fig1.update_layout(\n",
    "    xaxis_title='Generations',\n",
    "    yaxis_title='Allele Frequency',\n",
    "    showlegend=True\n",
    ")\n",
    "\n",
    "st.plotly_chart(fig1)\n",
    "\n",
    "st.header('Histogram of Final Allele Frequencies')\n",
    "final_allele_freq = [allele_freq[-1] for allele_freq in allele_freq_results]\n",
    "\n",
    "fig2 = go.Figure()\n",
    "fig2.add_trace(go.Histogram(x=final_allele_freq, nbinsx=20))\n",
    "\n",
    "fig2.update_layout(\n",
    "    xaxis_title='Final Allele Frequency',\n",
    "    yaxis_title='Frequency',\n",
    "    showlegend=False\n",
    ")\n",
    "\n",
    "st.plotly_chart(fig2)"
   ]
  }
 ],
 "metadata": {
  "anaconda-cloud": {},
  "kernelspec": {
   "display_name": "Python 3",
   "language": "python",
   "name": "python3"
  },
  "language_info": {
   "codemirror_mode": {
    "name": "ipython",
    "version": 3
   },
   "file_extension": ".py",
   "mimetype": "text/x-python",
   "name": "python",
   "nbconvert_exporter": "python",
   "pygments_lexer": "ipython3",
   "version": "3.11.5"
  }
 },
 "nbformat": 4,
 "nbformat_minor": 1
}

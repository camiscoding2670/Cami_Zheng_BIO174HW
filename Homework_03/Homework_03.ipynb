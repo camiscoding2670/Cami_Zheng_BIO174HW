{
 "cells": [
  {
   "cell_type": "markdown",
   "metadata": {},
   "source": [
    "# Homework 3:\n",
    "\n",
    "Do these exercises individually. You should use this ipython notebook and for each question you should have one code cell with you answer. Copy this notebook to your individual local repository in a directory called \"Homework_03\" and when you are done push the changes and sync with your github repository. If any of the questions need a separate file to be read by your program, add it to the same directory and make sure to push the file as well.\n",
    "\n",
    "A lot of these exercises are from this webpage: http://www.ling.gu.se/~lager/python_exercises.html. There are answers to these exercises online. Please do not copy the answers, you can search online for ideas but avoid using the text of the question on google.\n",
    "\n",
    "PLEASE DO NOT USE GITHUB CO-PILOT.\n",
    "\n",
    "For each question write the requested function and then call the function with the requested arguments. For example, if the question asks you to write a function called \"add\" that adds two numbers and then call the function with the arguments 2 and 3, you would write:\n",
    "\n",
    "```python \n",
    "def add(a,b):\n",
    "    return a+b\n",
    "\n",
    "add(2,3)\n",
    "```"
   ]
  },
  {
   "cell_type": "markdown",
   "metadata": {},
   "source": [
    "__Exercise 1.__ Write a Python function that asks the user for the radius of a circle and computes the area of the circle. Call the function with different values for the radius."
   ]
  },
  {
   "cell_type": "code",
   "execution_count": 33,
   "metadata": {
    "collapsed": true
   },
   "outputs": [
    {
     "name": "stdout",
     "output_type": "stream",
     "text": [
      "The area of the circle with radius 8.299826419882578 is: 216.41526572129698\n"
     ]
    }
   ],
   "source": [
    "import math\n",
    "import random  # Add this line to import the random module\n",
    "\n",
    "# Define area function in terms of radius\n",
    "def calculate_circle_area(radius):\n",
    "    return math.pi * radius**2\n",
    "\n",
    "# Test the function with randomly generated radii\n",
    "tryradius = float(random.uniform(0, 10))\n",
    "\n",
    "# Compute and print the area\n",
    "area = calculate_circle_area(tryradius)\n",
    "print(f\"The area of the circle with radius {tryradius} is: {area}\")"
   ]
  },
  {
   "cell_type": "markdown",
   "metadata": {},
   "source": [
    "__Exercise 2.__ Write a Python function that receives a filename, and returns the extension of the file. Examples:\n",
    "\n",
    "* **test.txt**, extension is txt\n",
    "* **notebook.ipynb**, extension is ipynb\n",
    "* **case.1.txt**, extension is txt\n",
    "* **item.1.2.a.doc**, extension is doc\n",
    "* **file**, no extension, your program should return something saying that there is no extension\n",
    "\n",
    "Call your function with the filenames above and return the extension."
   ]
  },
  {
   "cell_type": "code",
   "execution_count": 31,
   "metadata": {
    "collapsed": true
   },
   "outputs": [
    {
     "name": "stdout",
     "output_type": "stream",
     "text": [
      "The extension is txt\n",
      "The extension is ipynb\n",
      "The extension is txt\n",
      "The extension is doc\n",
      "No extension found for the file.\n"
     ]
    }
   ],
   "source": [
    "#define the function that splits a given filename into the first part and the extension\n",
    "def get_file_extension(filename):\n",
    "    if '.' in filename:\n",
    "        # Split the filename based on the last dot\n",
    "        parts = filename.split('.')\n",
    "        extension = parts[-1]\n",
    "        return f\"The extension is {extension}\"\n",
    "    else:\n",
    "        return \"No extension found for the file.\"\n",
    "\n",
    "# Test the function with different filenames\n",
    "filename1 = \"test.txt\"\n",
    "filename2 = \"notebook.ipynb\"\n",
    "filename3 = \"case.1.txt\"\n",
    "filename4 = \"item.1.2.a.doc\"\n",
    "filename5 = \"file\"\n",
    "\n",
    "#find and print the extension if exists\n",
    "result1 = get_file_extension(filename1)\n",
    "result2 = get_file_extension(filename2)\n",
    "result3 = get_file_extension(filename3)\n",
    "result4 = get_file_extension(filename4)\n",
    "result5 = get_file_extension(filename5)\n",
    "\n",
    "print(result1)\n",
    "print(result2)\n",
    "print(result3)\n",
    "print(result4)\n",
    "print(result5)\n"
   ]
  },
  {
   "cell_type": "markdown",
   "metadata": {},
   "source": [
    "__Exercise 3.__ Write a Python function that takes two points (in the form X, Y) and computes the euclidian distance between the two points. In other words, given two points (x1,y1) and (x2, y2), return the distance between the points, given by:\n",
    "\n",
    "$$\n",
    "\\begin{equation*} d=\\sqrt{(x_2-x_1)^2+(y_2-y_1)^2} \\end{equation*}\n",
    "$$\n",
    "\n",
    "Call your function with some points to test that it works."
   ]
  },
  {
   "cell_type": "code",
   "execution_count": 1,
   "metadata": {
    "collapsed": true
   },
   "outputs": [
    {
     "name": "stdout",
     "output_type": "stream",
     "text": [
      "The euclidian distance between point 1 and point 2 is 5.0990195135927845\n"
     ]
    }
   ],
   "source": [
    "import math\n",
    "\n",
    "#define the euclidian distance function in terms of two points\n",
    "def calculate_euclidian_distance(x1,x2,y1,y2):\n",
    "    distance = math.sqrt((x2-x1)**2+(y2-y1)**2)\n",
    "    return distance\n",
    "\n",
    "# Test the function with different point values\n",
    "point1 = 1,2\n",
    "point2 = -5,0\n",
    "\n",
    "#compute and print the euclidian distance value d\n",
    "d = calculate_euclidian_distance(point1[0], point1[1], point2[0], point2[1])\n",
    "print (f\"The euclidian distance between point 1 and point 2 is {d}\")"
   ]
  },
  {
   "cell_type": "markdown",
   "metadata": {},
   "source": [
    "__Exercise 4.__ Create a function called `max_in_list()` that takes a list of numbers of any length and returns the largest one without using python's builtin `max()`. Your program should work for any numbers, including negative numbers. \n",
    "\n",
    "Call your function with different lists of numbers (including negative numbers) and show that it works."
   ]
  },
  {
   "cell_type": "code",
   "execution_count": 29,
   "metadata": {},
   "outputs": [
    {
     "name": "stdout",
     "output_type": "stream",
     "text": [
      "The maximum in list1 is: 12\n",
      "The maximum in list2 is: -1\n",
      "The maximum in list3 is: None\n"
     ]
    }
   ],
   "source": [
    "#define a way to find the maximum number for a list\n",
    "def max_in_list(numbers):\n",
    "    if not numbers:\n",
    "        return None  # Return None for an empty list\n",
    "\n",
    "    max_num = numbers[0]  # Assume the first element is the maximum\n",
    "    \n",
    "    for num in numbers[1:]:\n",
    "        if num > max_num:\n",
    "            max_num = num  # Update max_num if a larger number is found\n",
    "\n",
    "    return max_num\n",
    "\n",
    "# Test the function with different lists of numbers\n",
    "list1 = [5, -3, 8, 12, 1]\n",
    "list2 = [-10, -7, -4, -1]\n",
    "list3 = []\n",
    "\n",
    "#find and print the maximum number in each list\n",
    "result1 = max_in_list(list1)\n",
    "result2 = max_in_list(list2)\n",
    "result3 = max_in_list(list3)\n",
    "\n",
    "print(f\"The maximum in list1 is: {result1}\")\n",
    "print(f\"The maximum in list2 is: {result2}\")\n",
    "print(f\"The maximum in list3 is: {result3}\")\n"
   ]
  },
  {
   "cell_type": "markdown",
   "metadata": {},
   "source": [
    "__Exercise 5.__ Write a **function** `translate()` that will translate a text into pig Latin. According to wikipedia here are the rules for pig latin:\n",
    "\n",
    "1. For words that begin with consonant sounds, all letters before the initial vowel are placed at the end of the word sequence. Then, \"ay\" (some people just add \"a\") is added, as in the following examples:\n",
    "  * pig → igpay\n",
    "  * banana → ananabay\n",
    "  * trash → ashtray\n",
    "  * happy → appyhay\n",
    "2. For words which begin with vowel sounds or silent letter, one just adds \"yay\" to the end. Examples are:\n",
    "  * eat → eatyay\n",
    "  * omelet → omeletyay\n",
    "\n",
    "You do not need to worry about special characters or punctuation. Just remove those from the string.\n",
    "\n",
    "Call your function with the following string:\n",
    "\n",
    "```\n",
    "Hello. My name is Andre. \n",
    "```\n",
    "\n",
    "It should return:\n",
    "\n",
    "```\n",
    "ellohay ymay amenay isyay andreyay \n",
    "```"
   ]
  },
  {
   "cell_type": "code",
   "execution_count": 28,
   "metadata": {
    "collapsed": true
   },
   "outputs": [
    {
     "name": "stdout",
     "output_type": "stream",
     "text": [
      "ellohay ymay amenay isyay andreyay\n"
     ]
    }
   ],
   "source": [
    "def translate(text):\n",
    "    # Remove special characters and punctuation\n",
    "    text = ''.join(char for char in text if char.isalnum() or char.isspace())\n",
    "\n",
    "    # Split the text into words\n",
    "    words = text.split()\n",
    "\n",
    "    # Translate each word into Pig Latin\n",
    "    translated_words = []\n",
    "    for word in words:\n",
    "        if word[0].lower() in {'a', 'e', 'i', 'o', 'u', 'y'}:\n",
    "            # Words starting with a vowel (including 'y' at the beginning)\n",
    "            translated_words.append(word.lower() + 'yay')\n",
    "        else:\n",
    "            # Words starting with a consonant\n",
    "            vowel_index = next((i for i, char in enumerate(word) if char.lower() in {'a', 'e', 'i', 'o', 'u', 'y'}), None)\n",
    "            if vowel_index is not None:\n",
    "                translated_words.append((word[vowel_index:] + word[:vowel_index]).lower() + 'ay')\n",
    "            else:\n",
    "                translated_words.append(word.lower() + 'yay')\n",
    "\n",
    "    # Join the translated words back into a string\n",
    "    translated_text = ' '.join(translated_words)\n",
    "    return translated_text\n",
    "\n",
    "# Test the function with the given string\n",
    "input_string = \"Hello. My name is Andre.\"\n",
    "result = translate(input_string)\n",
    "print(result)\n"
   ]
  },
  {
   "cell_type": "markdown",
   "metadata": {},
   "source": [
    "__Exercise 6.__  Palindromes are words or phrases that read the same when written backwards.Create a **function** `is_palindrome()` that receives a string variable and determines if it is a palindrome. \n",
    "\n",
    "The function should return true or false, and should ignore punctuation, capitalization, and spacing.\n",
    "\n",
    "Test your function with some palindromes and non-palindromes. Here are some palindromes:\n",
    "\n",
    "```\n",
    "\"Go hang a salami I'm a lasagna hog.\", \n",
    "\"Was it a rat I saw?\", \n",
    "\"Step on no pets\", \n",
    "\"Sit on a potato pan, Otis\", \n",
    "\"Satan, oscillate my metallic sonatas\", \n",
    "\"Rise to vote sir\", \n",
    "\"Dammit, I'm mad!\"\n",
    "```"
   ]
  },
  {
   "cell_type": "code",
   "execution_count": 27,
   "metadata": {
    "collapsed": true
   },
   "outputs": [
    {
     "name": "stdout",
     "output_type": "stream",
     "text": [
      "\"Go hang a salami I'm a lasagna hog.\" is a palindrome: True\n",
      "\"Was it a rat I saw?\" is a palindrome: True\n",
      "\"Step on no pets\" is a palindrome: True\n",
      "\"Sit on a potato pan, Otis\" is a palindrome: True\n",
      "\"Satan, oscillate my metallic sonatas\" is a palindrome: True\n",
      "\"Rise to vote sir\" is a palindrome: True\n",
      "\"Dammit, I'm mad!\" is a palindrome: True\n",
      "\"Hello, World!\" is a palindrome: False\n",
      "\"im using python\" is a palindrome: False\n",
      "\"No lemon, no lemon\" is a palindrome: False\n",
      "\"Not a palindrome\" is a palindrome: False\n",
      "\"a santa working at NASA\" is a palindrome: False\n",
      "\"Was it a cat or a car I saw?\" is a palindrome: False\n"
     ]
    }
   ],
   "source": [
    "def is_palindrome(text):\n",
    "# Remove special characters, punctuation, and convert to lowercase\n",
    "    cleaned_text = ''.join(char.lower() for char in text if char.isalnum())\n",
    "\n",
    "    # Check if the cleaned text is equal to its reverse\n",
    "    return cleaned_text == cleaned_text[::-1]\n",
    "\n",
    "# Test the function with palindromes and non-palindromes\n",
    "palindromes = [\n",
    "    \"Go hang a salami I'm a lasagna hog.\", #palindrome\n",
    "    \"Was it a rat I saw?\", #palindrome\n",
    "    \"Step on no pets\", #palindrome\n",
    "    \"Sit on a potato pan, Otis\", #palindrome\n",
    "    \"Satan, oscillate my metallic sonatas\", #palindrome\n",
    "    \"Rise to vote sir\", #palindrome\n",
    "    \"Dammit, I'm mad!\" #palindrome\n",
    " ]\n",
    "\n",
    "non_palindromes = [\n",
    "    \"Hello, World!\", #non-palindrome\n",
    "    \"im using python\", #non-palindrome\n",
    "    \"No lemon, no lemon\", #palindrome\n",
    "    \"Not a palindrome\", #non-palindrome\n",
    "    \"a santa working at NASA\", #palindrome\n",
    "    \"Was it a cat or a car I saw?\", #non-palindrome\n",
    "]\n",
    "\n",
    "# Determine if the phrase is or is not a palindrome\n",
    "for phrase in palindromes:\n",
    "    result = is_palindrome(phrase)\n",
    "    print(f'\"{phrase}\" is a palindrome: {result}')\n",
    "\n",
    "for phrase in non_palindromes:\n",
    "    result = is_palindrome(phrase)\n",
    "    print(f'\"{phrase}\" is a palindrome: {result}')"
   ]
  },
  {
   "cell_type": "markdown",
   "metadata": {},
   "source": [
    "__Exercise 7.__ Write a function that receives a file name, opens the file, reads each line, and uses the `is_palindrome()` function from the previous exercise to print the line to the screen if it is a palindrome.\n",
    "\n",
    "Test the function with the `palindromes.txt` file in the current directory. When given this file, your program should output:\n",
    "\n",
    "```\n",
    "was it a rat i saw?!?\n",
    "Are we not drawn onward, we few, drawn onward to new era?\n",
    "A man, a plan, a canal - Panama\n",
    "Never odd or even\n",
    "aviva\n",
    "```"
   ]
  },
  {
   "cell_type": "code",
   "execution_count": 26,
   "metadata": {
    "collapsed": true
   },
   "outputs": [
    {
     "name": "stdout",
     "output_type": "stream",
     "text": [
      "was it a rat i saw?!?\n",
      "Are we not drawn onward, we few, drawn onward to new era?\n",
      "A man, a plan, a canal - Panama\n",
      "Never odd or even\n",
      "aviva\n"
     ]
    }
   ],
   "source": [
    "def is_palindrome(s):\n",
    "    # Function to check if a string is a palindrome\n",
    "    clean_s = ''.join(char.lower() for char in s if char.isalnum())\n",
    "    return clean_s == clean_s[::-1]\n",
    "\n",
    "def find_palindromes_in_file(file_name):\n",
    "    try:\n",
    "        with open(file_name, 'r') as file:\n",
    "            for line in file:\n",
    "                if is_palindrome(line):\n",
    "                    print(line.strip())\n",
    "    except FileNotFoundError:\n",
    "        print(f\"File '{file_name}' not found.\")\n",
    "\n",
    "# Test the function with the 'palindromes.txt' file\n",
    "find_palindromes_in_file('palindromes.txt')\n"
   ]
  },
  {
   "cell_type": "markdown",
   "metadata": {},
   "source": [
    "__Exercise 8.__ According to Wikipedia, a semordnilap is a word or phrase that spells a different word or phrase backwards. (\"Semordnilap\" is itself \"palindromes\" spelled backwards.) Write a semordnilap recogniser function that accepts a file name from the user for a file containing a list of words, one per line. The function will read the file and find and print all pairs of words that are semordnilaps to the screen. \n",
    "\n",
    "For example, if \"stressed\" and \"desserts\" are part of the word list, the output should include the pair \"stressed desserts\". Note, by the way, that each pair by itself forms a palindrome. But it should output each pair only once, so if the program output \"stressed desserts\" it should not output \"desserts stressed\".\n",
    "\n",
    "You can test your function using the file: `semordnilap.txt`. It should return:\n",
    "\n",
    "```\n",
    "desserts stressed\n",
    "Semordnilap palindromes\n",
    "```"
   ]
  },
  {
   "cell_type": "code",
   "execution_count": 23,
   "metadata": {
    "collapsed": true
   },
   "outputs": [
    {
     "name": "stdout",
     "output_type": "stream",
     "text": [
      "desserts stressed\n",
      "Semordnilap palindromes\n"
     ]
    }
   ],
   "source": [
    "def is_semordnilap(word1, word2):\n",
    "    return word1 == word2[::-1]\n",
    "\n",
    "def find_semordnilaps_in_file(file_name):\n",
    "    semordnilap_pairs = []\n",
    "    try:\n",
    "        with open(file_name, 'r') as file:\n",
    "            words = [line.strip() for line in file]\n",
    "\n",
    "            # Find and print semordnilap pairs\n",
    "            for i in range(len(words)):\n",
    "                for j in range(i+1, len(words)):\n",
    "                    if is_semordnilap(words[i], words[j]):\n",
    "                        pair = f\"{words[i]} {words[j]}\"\n",
    "                        semordnilap_pairs.append(pair)\n",
    "                        print(pair)\n",
    "\n",
    "    except FileNotFoundError:\n",
    "        print(f\"File '{file_name}' not found.\")\n",
    "    \n",
    "    count = len(semordnilap_pairs)\n",
    "    if count > 0:\n",
    "        print(f\"Semordnilap palindromes\")\n",
    "    else:\n",
    "        print(\"No semordnilap palindromes found.\")\n",
    "\n",
    "# Test the function with the 'semordnilap.txt' file\n",
    "find_semordnilaps_in_file('semordnilap.txt')\n"
   ]
  },
  {
   "cell_type": "markdown",
   "metadata": {},
   "source": [
    "__Exercise 9.__ Write a function that asks for a filename, reads all the words in the file, calculates the average word length and creates a histogram of words length. \n",
    "\n",
    "A histogram shows how many times you encountered a word of a given size. \n",
    "The output of the program should look like:\n",
    "\n",
    "```\n",
    "The file: filename contains X words, the average length of the words is: Y.\n",
    "Histogram of the word sizes:\n",
    "1: ***********\n",
    "2: ********\n",
    "3: *************\n",
    "4: *********\n",
    "....\n",
    "```\n",
    "\n",
    "I'll test using this file: `text.txt`. Your output should be:\n",
    "\n",
    "```\n",
    "The file text.txt contains 69 words, with an average word length of 5. Histogram of the word sizes:\n",
    "1: \n",
    "2: *************\n",
    "3: *****\n",
    "4: ***********\n",
    "5: **********\n",
    "6: *********\n",
    "7: ********\n",
    "8: ****\n",
    "9: ****\n",
    "10: **\n",
    "11: *\n",
    "12: *\n",
    "13: *\n",
    "```\n",
    "\n",
    "To do this, you need to find the size of each word, and then count all words of size 1, size 2, etc. Each ```*``` in each row in your histogram represents one occurrence of a word of that size."
   ]
  },
  {
   "cell_type": "code",
   "execution_count": null,
   "metadata": {
    "collapsed": true
   },
   "outputs": [
    {
     "name": "stdout",
     "output_type": "stream",
     "text": [
      "The file text.txt contains 69 words, with an average word length of 5.46.\n",
      "Histogram of the word sizes:\n",
      "1: \n",
      "2: *************\n",
      "3: *****\n",
      "4: *********\n",
      "5: ************\n",
      "6: *******\n",
      "7: *********\n",
      "8: ***\n",
      "9: *****\n",
      "10: ***\n",
      "11: *\n",
      "12: *\n",
      "13: *\n"
     ]
    }
   ],
   "source": [
    "def word_length_histogram(file_name):\n",
    "    try:\n",
    "        with open(file_name, 'r') as file:\n",
    "            words = [word.strip() for line in file for word in line.split()]\n",
    "\n",
    "            total_words = len(words)\n",
    "            total_length = sum(len(word) for word in words)\n",
    "\n",
    "            average_length = total_length / total_words\n",
    "\n",
    "            print(f\"The file {file_name} contains {total_words} words, with an average word length of {average_length:.2f}.\")\n",
    "            print(\"Histogram of the word sizes:\")\n",
    "\n",
    "            # Create and print the histogram\n",
    "            for size in range(1, max(len(word) for word in words) + 1):\n",
    "                count = sum(1 for word in words if len(word) == size)\n",
    "                print(f\"{size}: {'*' * count}\")\n",
    "\n",
    "    except FileNotFoundError:\n",
    "        print(f\"File '{file_name}' not found.\")\n",
    "\n",
    "# Test the function with the 'text.txt' file\n",
    "word_length_histogram('text.txt')\n"
   ]
  },
  {
   "cell_type": "markdown",
   "metadata": {},
   "source": [
    "__Exercise 10.__ Write a program able to play the \"Guess the number\" game, where the number to be guessed is randomly chosen between 1 and 20. This is how it should work when run:\n",
    "\n",
    "```\n",
    "Hello! What is your name?\n",
    "  Andre\n",
    "Well, Andre, I am thinking of a number between 1 and 20.\n",
    "Take a guess.\n",
    "  10\n",
    "Your guess is too low.\n",
    "Take a guess.\n",
    "  15\n",
    "Your guess is too low.\n",
    "Take a guess.\n",
    "  18\n",
    "Good job, Andre! You guessed my number in 3 guesses!\n",
    "```"
   ]
  },
  {
   "cell_type": "code",
   "execution_count": 22,
   "metadata": {
    "collapsed": true
   },
   "outputs": [
    {
     "name": "stdout",
     "output_type": "stream",
     "text": [
      "Hello! What is your name?\n",
      "Well, 3, I am thinking of a number between 1 and 20.\n",
      "Your guess is too low.\n",
      "Your guess is too high.\n",
      "Your guess is too high.\n",
      "Good job, 3! You guessed my number in 4 guesses!\n"
     ]
    }
   ],
   "source": [
    "import random\n",
    "\n",
    "def guess_the_number():\n",
    "    print(\"Hello! What is your name?\")\n",
    "    name = input(\"  \")\n",
    "\n",
    "    print(f\"Well, {name}, I am thinking of a number between 1 and 20.\")\n",
    "\n",
    "    number_to_guess = random.randint(1, 20)\n",
    "    number_of_guesses = 0\n",
    "\n",
    "    while True:\n",
    "        try:\n",
    "            guess = int(input(\"Take a guess.\\n  \"))\n",
    "            number_of_guesses += 1\n",
    "\n",
    "            if guess < number_to_guess:\n",
    "                print(\"Your guess is too low.\")\n",
    "            elif guess > number_to_guess:\n",
    "                print(\"Your guess is too high.\")\n",
    "            else:\n",
    "                print(f\"Good job, {name}! You guessed my number in {number_of_guesses} guesses!\")\n",
    "                break\n",
    "\n",
    "        except ValueError:\n",
    "            print(\"Please enter a valid number.\")\n",
    "\n",
    "if __name__ == \"__main__\":\n",
    "    guess_the_number()\n"
   ]
  }
 ],
 "metadata": {
  "anaconda-cloud": {},
  "kernelspec": {
   "display_name": "Python 3",
   "language": "python",
   "name": "python3"
  },
  "language_info": {
   "codemirror_mode": {
    "name": "ipython",
    "version": 3
   },
   "file_extension": ".py",
   "mimetype": "text/x-python",
   "name": "python",
   "nbconvert_exporter": "python",
   "pygments_lexer": "ipython3",
   "version": "3.11.7"
  }
 },
 "nbformat": 4,
 "nbformat_minor": 1
}
